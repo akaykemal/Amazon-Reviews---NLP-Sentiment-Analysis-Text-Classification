{
 "cells": [
  {
   "attachments": {
    "amazon.png": {
     "image/png": "[encoded data removed]"
    }
   },
   "cell_type": "markdown",
   "metadata": {},
   "source": [
    "# Amazon reviews - NLP Project\n",
    "## with Text Processing, NER, Topic Modeling, Sentiment Analysis and WordClouds\n",
    "This dataset contains 34,686,770 Amazon reviews from 6,643,669 users on 2,441,053 products, from the Stanford Network Analysis Project (SNAP). This subset contains 1,800,000 training samples and 200,000 testing samples in each polarity sentiment.\n",
    "\n",
    "To achieve results faster we took a sample of 40000 reviews of the training set, in accordance to the Central Limit Theorem.<br>\n",
    "We process the texts, like removing numbers, enter lines and stopwords and using methods like NER and Topic Modeling and its visualization with WordClouds. We use different Classifiers for Text Classificaton and TextBlob for Sentiment Analysis.\n",
    "\n",
    "For more information about the dataset use the following Kaggle link:<br>\n",
    "https://www.kaggle.com/datasets/kritanjalijain/amazon-reviews\n",
    "\n",
    "![amazon.png](attachment:amazon.png)"
   ]
  },
  {
   "cell_type": "markdown",
   "metadata": {},
   "source": [
    "## Import Libraries and Load Data"
   ]
  },
  {
   "cell_type": "code",
   "execution_count": 1,
   "metadata": {
    "_kg_hide-output": true,
    "execution": {
     "iopub.execute_input": "2022-12-28T23:29:05.751617Z",
     "iopub.status.busy": "2022-12-28T23:29:05.750980Z",
     "iopub.status.idle": "2022-12-28T23:29:05.759567Z",
     "shell.execute_reply": "2022-12-28T23:29:05.758030Z",
     "shell.execute_reply.started": "2022-12-28T23:29:05.751456Z"
    }
   },
   "outputs": [],
   "source": [
    "#pip install svgling - was needed to show the entities (NER)"
   ]
  },
  {
   "cell_type": "code",
   "execution_count": 2,
   "metadata": {
    "_cell_guid": "b1076dfc-b9ad-4769-8c92-a6c4dae69d19",
    "_kg_hide-output": true,
    "_uuid": "8f2839f25d086af736a60e9eeb907d3b93b6e0e5",
    "collapsed": true,
    "execution": {
     "iopub.execute_input": "2022-12-28T23:29:05.761672Z",
     "iopub.status.busy": "2022-12-28T23:29:05.761262Z",
     "iopub.status.idle": "2022-12-28T23:29:06.785984Z",
     "shell.execute_reply": "2022-12-28T23:29:06.784734Z",
     "shell.execute_reply.started": "2022-12-28T23:29:05.761636Z"
    }
   },
   "outputs": [
    {
     "name": "stdout",
     "output_type": "stream",
     "text": [
      "/kaggle/input/amazon-reviews/amazon_review_polarity_csv.tgz\n",
      "/kaggle/input/amazon-reviews/train.csv\n",
      "/kaggle/input/amazon-reviews/test.csv\n",
      "/kaggle/input/pics12/amazon.png\n"
     ]
    },
    {
     "name": "stderr",
     "output_type": "stream",
     "text": [
      "[nltk_data] Downloading package stopwords to /usr/share/nltk_data...\n",
      "[nltk_data]   Package stopwords is already up-to-date!\n",
      "[nltk_data] Downloading package averaged_perceptron_tagger to\n",
      "[nltk_data]     /usr/share/nltk_data...\n",
      "[nltk_data]   Package averaged_perceptron_tagger is already up-to-\n",
      "[nltk_data]       date!\n",
      "[nltk_data] Downloading package maxent_ne_chunker to\n",
      "[nltk_data]     /usr/share/nltk_data...\n",
      "[nltk_data]   Package maxent_ne_chunker is already up-to-date!\n",
      "[nltk_data] Downloading package words to /usr/share/nltk_data...\n",
      "[nltk_data]   Package words is already up-to-date!\n",
      "[nltk_data] Downloading package wordnet to /usr/share/nltk_data...\n",
      "[nltk_data]   Package wordnet is already up-to-date!\n",
      "[nltk_data] Downloading package punkt to /usr/share/nltk_data...\n",
      "[nltk_data]   Package punkt is already up-to-date!\n"
     ]
    }
   ],
   "source": [
    "#import libraries\n",
    "import pandas as pd\n",
    "import numpy as np\n",
    "import matplotlib.pyplot as plt\n",
    "import seaborn as sns\n",
    "import string\n",
    "import re\n",
    "\n",
    "from wordcloud import WordCloud\n",
    "from wordcloud import STOPWORDS\n",
    "from PIL import Image\n",
    "\n",
    "import nltk\n",
    "from nltk.corpus import stopwords\n",
    "from nltk import pos_tag, ne_chunk # for NER\n",
    "from nltk.stem import PorterStemmer\n",
    "from nltk.stem import WordNetLemmatizer\n",
    "lemmatizer = WordNetLemmatizer()\n",
    "stemmer = PorterStemmer()\n",
    "\n",
    "nltk.download('stopwords')\n",
    "nltk.download('averaged_perceptron_tagger')\n",
    "nltk.download('maxent_ne_chunker')\n",
    "nltk.download('words')\n",
    "nltk.download('wordnet')\n",
    "nltk.download('punkt')\n",
    "\n",
    "from sklearn.feature_extraction.text import CountVectorizer, TfidfVectorizer\n",
    "from sklearn.model_selection import train_test_split\n",
    "from sklearn.metrics import accuracy_score\n",
    "\n",
    "import warnings\n",
    "warnings.filterwarnings(\"ignore\")\n",
    "\n",
    "import os\n",
    "for dirname, _, filenames in os.walk('/kaggle/input'):\n",
    "    for filename in filenames:\n",
    "        print(os.path.join(dirname, filename))"
   ]
  },
  {
   "cell_type": "code",
   "execution_count": 3,
   "metadata": {
    "execution": {
     "iopub.execute_input": "2022-12-28T23:29:06.787863Z",
     "iopub.status.busy": "2022-12-28T23:29:06.787484Z",
     "iopub.status.idle": "2022-12-28T23:29:28.072386Z",
     "shell.execute_reply": "2022-12-28T23:29:28.071090Z",
     "shell.execute_reply.started": "2022-12-28T23:29:06.787829Z"
    }
   },
   "outputs": [
    {
     "data": {
      "text/html": [
       "<div>\n",
       "<style scoped>\n",
       "    .dataframe tbody tr th:only-of-type {\n",
       "        vertical-align: middle;\n",
       "    }\n",
       "\n",
       "    .dataframe tbody tr th {\n",
       "        vertical-align: top;\n",
       "    }\n",
       "\n",
       "    .dataframe thead th {\n",
       "        text-align: right;\n",
       "    }\n",
       "</style>\n",
       "<table border=\"1\" class=\"dataframe\">\n",
       "  <thead>\n",
       "    <tr style=\"text-align: right;\">\n",
       "      <th></th>\n",
       "      <th>sentiment</th>\n",
       "      <th>title</th>\n",
       "      <th>text</th>\n",
       "    </tr>\n",
       "  </thead>\n",
       "  <tbody>\n",
       "    <tr>\n",
       "      <th>0</th>\n",
       "      <td>2</td>\n",
       "      <td>Stuning even for the non-gamer</td>\n",
       "      <td>This sound track was beautiful! It paints the ...</td>\n",
       "    </tr>\n",
       "    <tr>\n",
       "      <th>1</th>\n",
       "      <td>2</td>\n",
       "      <td>The best soundtrack ever to anything.</td>\n",
       "      <td>I'm reading a lot of reviews saying that this ...</td>\n",
       "    </tr>\n",
       "    <tr>\n",
       "      <th>2</th>\n",
       "      <td>2</td>\n",
       "      <td>Amazing!</td>\n",
       "      <td>This soundtrack is my favorite music of all ti...</td>\n",
       "    </tr>\n",
       "    <tr>\n",
       "      <th>3</th>\n",
       "      <td>2</td>\n",
       "      <td>Excellent Soundtrack</td>\n",
       "      <td>I truly like this soundtrack and I enjoy video...</td>\n",
       "    </tr>\n",
       "    <tr>\n",
       "      <th>4</th>\n",
       "      <td>2</td>\n",
       "      <td>Remember, Pull Your Jaw Off The Floor After He...</td>\n",
       "      <td>If you've played the game, you know how divine...</td>\n",
       "    </tr>\n",
       "  </tbody>\n",
       "</table>\n",
       "</div>"
      ],
      "text/plain": [
       "   sentiment                                              title  \\\n",
       "0          2                     Stuning even for the non-gamer   \n",
       "1          2              The best soundtrack ever to anything.   \n",
       "2          2                                           Amazing!   \n",
       "3          2                               Excellent Soundtrack   \n",
       "4          2  Remember, Pull Your Jaw Off The Floor After He...   \n",
       "\n",
       "                                                text  \n",
       "0  This sound track was beautiful! It paints the ...  \n",
       "1  I'm reading a lot of reviews saying that this ...  \n",
       "2  This soundtrack is my favorite music of all ti...  \n",
       "3  I truly like this soundtrack and I enjoy video...  \n",
       "4  If you've played the game, you know how divine...  "
      ]
     },
     "execution_count": 3,
     "metadata": {},
     "output_type": "execute_result"
    }
   ],
   "source": [
    "# load data\n",
    "df = pd.read_csv('/kaggle/input/amazon-reviews/train.csv', header=None, names=['sentiment','title','text'])\n",
    "df.head() # first 5 entries"
   ]
  },
  {
   "cell_type": "markdown",
   "metadata": {},
   "source": [
    "## EDA - Exploratory Data Analysis"
   ]
  },
  {
   "cell_type": "markdown",
   "metadata": {},
   "source": [
    "### Central Limit Theorem\n",
    "According to Wikipedia, when independent random variables are summed up, their properly normalized sum tends toward a normal distribution even if the original variables themselves are not normally distributed. So we take random samples of our data, otherwise it would take too much time do deal with the project."
   ]
  },
  {
   "cell_type": "code",
   "execution_count": 4,
   "metadata": {
    "execution": {
     "iopub.execute_input": "2022-12-28T23:29:28.077498Z",
     "iopub.status.busy": "2022-12-28T23:29:28.076548Z",
     "iopub.status.idle": "2022-12-28T23:29:28.279258Z",
     "shell.execute_reply": "2022-12-28T23:29:28.278033Z",
     "shell.execute_reply.started": "2022-12-28T23:29:28.077442Z"
    }
   },
   "outputs": [
    {
     "data": {
      "text/html": [
       "<div>\n",
       "<style scoped>\n",
       "    .dataframe tbody tr th:only-of-type {\n",
       "        vertical-align: middle;\n",
       "    }\n",
       "\n",
       "    .dataframe tbody tr th {\n",
       "        vertical-align: top;\n",
       "    }\n",
       "\n",
       "    .dataframe thead th {\n",
       "        text-align: right;\n",
       "    }\n",
       "</style>\n",
       "<table border=\"1\" class=\"dataframe\">\n",
       "  <thead>\n",
       "    <tr style=\"text-align: right;\">\n",
       "      <th></th>\n",
       "      <th>sentiment</th>\n",
       "      <th>title</th>\n",
       "      <th>text</th>\n",
       "    </tr>\n",
       "  </thead>\n",
       "  <tbody>\n",
       "    <tr>\n",
       "      <th>0</th>\n",
       "      <td>1</td>\n",
       "      <td>ZZZZZZZZZZZ</td>\n",
       "      <td>Basically the movie is just people running aro...</td>\n",
       "    </tr>\n",
       "    <tr>\n",
       "      <th>1</th>\n",
       "      <td>2</td>\n",
       "      <td>Rich, Engrossing</td>\n",
       "      <td>This is a great work of history. It covers the...</td>\n",
       "    </tr>\n",
       "    <tr>\n",
       "      <th>2</th>\n",
       "      <td>2</td>\n",
       "      <td>My Mother... My Opinion??</td>\n",
       "      <td>It took me a while to get into this book... th...</td>\n",
       "    </tr>\n",
       "    <tr>\n",
       "      <th>3</th>\n",
       "      <td>1</td>\n",
       "      <td>A bit disappointed</td>\n",
       "      <td>This was my first digital camera. At first I w...</td>\n",
       "    </tr>\n",
       "    <tr>\n",
       "      <th>4</th>\n",
       "      <td>2</td>\n",
       "      <td>review of Awakening Curry Buckle</td>\n",
       "      <td>Darwin Bownes is a 10th grader who moves to Kl...</td>\n",
       "    </tr>\n",
       "  </tbody>\n",
       "</table>\n",
       "</div>"
      ],
      "text/plain": [
       "   sentiment                             title  \\\n",
       "0          1                       ZZZZZZZZZZZ   \n",
       "1          2                  Rich, Engrossing   \n",
       "2          2         My Mother... My Opinion??   \n",
       "3          1                A bit disappointed   \n",
       "4          2  review of Awakening Curry Buckle   \n",
       "\n",
       "                                                text  \n",
       "0  Basically the movie is just people running aro...  \n",
       "1  This is a great work of history. It covers the...  \n",
       "2  It took me a while to get into this book... th...  \n",
       "3  This was my first digital camera. At first I w...  \n",
       "4  Darwin Bownes is a 10th grader who moves to Kl...  "
      ]
     },
     "execution_count": 4,
     "metadata": {},
     "output_type": "execute_result"
    }
   ],
   "source": [
    "# take sample of data for this project\n",
    "df=df.sample(40000) # take a sample of 40k\n",
    "df.reset_index(drop=True,inplace=True) # reset index\n",
    "df.head() # first 5 entries"
   ]
  },
  {
   "cell_type": "code",
   "execution_count": 5,
   "metadata": {
    "execution": {
     "iopub.execute_input": "2022-12-28T23:29:28.281206Z",
     "iopub.status.busy": "2022-12-28T23:29:28.280817Z",
     "iopub.status.idle": "2022-12-28T23:29:28.322668Z",
     "shell.execute_reply": "2022-12-28T23:29:28.321169Z",
     "shell.execute_reply.started": "2022-12-28T23:29:28.281171Z"
    }
   },
   "outputs": [
    {
     "name": "stdout",
     "output_type": "stream",
     "text": [
      "<class 'pandas.core.frame.DataFrame'>\n",
      "RangeIndex: 40000 entries, 0 to 39999\n",
      "Data columns (total 3 columns):\n",
      " #   Column     Non-Null Count  Dtype \n",
      "---  ------     --------------  ----- \n",
      " 0   sentiment  40000 non-null  int64 \n",
      " 1   title      40000 non-null  object\n",
      " 2   text       40000 non-null  object\n",
      "dtypes: int64(1), object(2)\n",
      "memory usage: 937.6+ KB\n"
     ]
    }
   ],
   "source": [
    "df.info() # infos about the samples, features and datatypes"
   ]
  },
  {
   "cell_type": "code",
   "execution_count": 6,
   "metadata": {
    "execution": {
     "iopub.execute_input": "2022-12-28T23:29:28.324824Z",
     "iopub.status.busy": "2022-12-28T23:29:28.323907Z",
     "iopub.status.idle": "2022-12-28T23:29:28.358012Z",
     "shell.execute_reply": "2022-12-28T23:29:28.356476Z",
     "shell.execute_reply.started": "2022-12-28T23:29:28.324765Z"
    }
   },
   "outputs": [
    {
     "data": {
      "text/plain": [
       "sentiment    0\n",
       "title        0\n",
       "text         0\n",
       "dtype: int64"
      ]
     },
     "execution_count": 6,
     "metadata": {},
     "output_type": "execute_result"
    }
   ],
   "source": [
    "df.isnull().sum() # checking for missing values"
   ]
  },
  {
   "cell_type": "code",
   "execution_count": 7,
   "metadata": {
    "execution": {
     "iopub.execute_input": "2022-12-28T23:29:28.360823Z",
     "iopub.status.busy": "2022-12-28T23:29:28.359953Z",
     "iopub.status.idle": "2022-12-28T23:29:28.391794Z",
     "shell.execute_reply": "2022-12-28T23:29:28.390432Z",
     "shell.execute_reply.started": "2022-12-28T23:29:28.360776Z"
    }
   },
   "outputs": [],
   "source": [
    "df.fillna('', inplace=True) # fill empty titles with empty string"
   ]
  },
  {
   "cell_type": "code",
   "execution_count": 8,
   "metadata": {
    "execution": {
     "iopub.execute_input": "2022-12-28T23:29:28.394676Z",
     "iopub.status.busy": "2022-12-28T23:29:28.393553Z",
     "iopub.status.idle": "2022-12-28T23:29:28.554960Z",
     "shell.execute_reply": "2022-12-28T23:29:28.553550Z",
     "shell.execute_reply.started": "2022-12-28T23:29:28.394635Z"
    }
   },
   "outputs": [
    {
     "data": {
      "image/png": "[encoded data removed]",
      "text/plain": [
       "<Figure size 432x288 with 1 Axes>"
      ]
     },
     "metadata": {
      "needs_background": "light"
     },
     "output_type": "display_data"
    }
   ],
   "source": [
    "sns.countplot(x=df[\"sentiment\"]); # plot the classes"
   ]
  },
  {
   "cell_type": "markdown",
   "metadata": {},
   "source": [
    "Now we have a dataframe with a random sample of 40000 entries, 3 features and no empty values. We can sewe that we have an even distribution of positive and negative reviews."
   ]
  },
  {
   "cell_type": "code",
   "execution_count": 9,
   "metadata": {
    "execution": {
     "iopub.execute_input": "2022-12-28T23:29:28.558739Z",
     "iopub.status.busy": "2022-12-28T23:29:28.557602Z",
     "iopub.status.idle": "2022-12-28T23:29:28.613893Z",
     "shell.execute_reply": "2022-12-28T23:29:28.612543Z",
     "shell.execute_reply.started": "2022-12-28T23:29:28.558686Z"
    }
   },
   "outputs": [
    {
     "data": {
      "text/plain": [
       "0    ZZZZZZZZZZZ Basically the movie is just people...\n",
       "1    Rich, Engrossing This is a great work of histo...\n",
       "2    My Mother... My Opinion?? It took me a while t...\n",
       "3    A bit disappointed This was my first digital c...\n",
       "4    review of Awakening Curry Buckle Darwin Bownes...\n",
       "Name: content, dtype: object"
      ]
     },
     "execution_count": 9,
     "metadata": {},
     "output_type": "execute_result"
    }
   ],
   "source": [
    "# combine title and text\n",
    "df['content'] = df['title']+' '+df['text'] \n",
    "df.content.head()"
   ]
  },
  {
   "cell_type": "markdown",
   "metadata": {},
   "source": [
    "## Text Processing in NLP projects:\n",
    "* Convert all text to lowercase\n",
    "* Remove punctuation marks\n",
    "* Remove numbers\n",
    "* Remove line break and enter \\r \\n\n",
    "* Tokenize the text\n",
    "* Stop words (remove unnecessary words)\n",
    "* Remmove suffixes with Lemma and Stemma and find roots\n",
    "* Using NER\n",
    "* Convert texts to numbers with Vectorize"
   ]
  },
  {
   "cell_type": "code",
   "execution_count": 10,
   "metadata": {
    "execution": {
     "iopub.execute_input": "2022-12-28T23:29:28.616507Z",
     "iopub.status.busy": "2022-12-28T23:29:28.615286Z",
     "iopub.status.idle": "2022-12-28T23:29:28.627203Z",
     "shell.execute_reply": "2022-12-28T23:29:28.625999Z",
     "shell.execute_reply.started": "2022-12-28T23:29:28.616432Z"
    }
   },
   "outputs": [],
   "source": [
    "# function to process text, including Tokenizing, Lemmatizing and Stemmatizinh, Stop Words removals and NER\n",
    "def preprocess_text(df, text_column, processed_column='text_processed', tokens_column='text_tokens', lemma_column='text_lemmatize', entities_column='text_entities'):\n",
    "    # Convert text to lowercase and remove punctuation, numbers, and line breaks\n",
    "    df[processed_column] = df[text_column].str.lower().apply(lambda x: re.sub(r'[^\\w\\s]|\\d|\\r|\\n', '', x))\n",
    "    \n",
    "    # Tokenize the text of processed text\n",
    "    df[tokens_column] = df[processed_column].apply(lambda x: nltk.word_tokenize(x))\n",
    "    \n",
    "    # Remove stop words from tokenized text\n",
    "    stop_words = set(stopwords.words('english'))\n",
    "    df[tokens_column] = df[tokens_column].apply(lambda x: [word for word in x if word not in stop_words])\n",
    "    \n",
    "    # Remmove suffixes with Lemma and Stemma and find roots\n",
    "    df[lemma_column] = df[tokens_column].apply(lambda x: [stemmer.stem(lemmatizer.lemmatize(word)) for word in x])\n",
    "    \n",
    "    # NER - Extract named entities\n",
    "    df[entities_column] = df[tokens_column].apply(lambda x: ne_chunk(pos_tag(x)))\n",
    "    \n",
    "    return df"
   ]
  },
  {
   "cell_type": "code",
   "execution_count": 11,
   "metadata": {
    "execution": {
     "iopub.execute_input": "2022-12-28T23:29:28.629324Z",
     "iopub.status.busy": "2022-12-28T23:29:28.628841Z",
     "iopub.status.idle": "2022-12-28T23:39:52.963705Z",
     "shell.execute_reply": "2022-12-28T23:39:52.962098Z",
     "shell.execute_reply.started": "2022-12-28T23:29:28.629272Z"
    }
   },
   "outputs": [],
   "source": [
    "df = preprocess_text(df, 'content')"
   ]
  },
  {
   "cell_type": "code",
   "execution_count": 12,
   "metadata": {
    "execution": {
     "iopub.execute_input": "2022-12-28T23:39:52.966603Z",
     "iopub.status.busy": "2022-12-28T23:39:52.966041Z",
     "iopub.status.idle": "2022-12-28T23:39:53.111499Z",
     "shell.execute_reply": "2022-12-28T23:39:53.110223Z",
     "shell.execute_reply.started": "2022-12-28T23:39:52.966534Z"
    },
    "scrolled": true
   },
   "outputs": [
    {
     "data": {
      "text/html": [
       "<div>\n",
       "<style scoped>\n",
       "    .dataframe tbody tr th:only-of-type {\n",
       "        vertical-align: middle;\n",
       "    }\n",
       "\n",
       "    .dataframe tbody tr th {\n",
       "        vertical-align: top;\n",
       "    }\n",
       "\n",
       "    .dataframe thead th {\n",
       "        text-align: right;\n",
       "    }\n",
       "</style>\n",
       "<table border=\"1\" class=\"dataframe\">\n",
       "  <thead>\n",
       "    <tr style=\"text-align: right;\">\n",
       "      <th></th>\n",
       "      <th>sentiment</th>\n",
       "      <th>title</th>\n",
       "      <th>text</th>\n",
       "      <th>content</th>\n",
       "      <th>text_processed</th>\n",
       "      <th>text_tokens</th>\n",
       "      <th>text_lemmatize</th>\n",
       "      <th>text_entities</th>\n",
       "    </tr>\n",
       "  </thead>\n",
       "  <tbody>\n",
       "    <tr>\n",
       "      <th>0</th>\n",
       "      <td>1</td>\n",
       "      <td>ZZZZZZZZZZZ</td>\n",
       "      <td>Basically the movie is just people running aro...</td>\n",
       "      <td>ZZZZZZZZZZZ Basically the movie is just people...</td>\n",
       "      <td>zzzzzzzzzzz basically the movie is just people...</td>\n",
       "      <td>[zzzzzzzzzzz, basically, movie, people, runnin...</td>\n",
       "      <td>[zzzzzzzzzzz, basic, movi, peopl, run, around,...</td>\n",
       "      <td>[(zzzzzzzzzzz, NN), (basically, RB), (movie, N...</td>\n",
       "    </tr>\n",
       "    <tr>\n",
       "      <th>1</th>\n",
       "      <td>2</td>\n",
       "      <td>Rich, Engrossing</td>\n",
       "      <td>This is a great work of history. It covers the...</td>\n",
       "      <td>Rich, Engrossing This is a great work of histo...</td>\n",
       "      <td>rich engrossing this is a great work of histor...</td>\n",
       "      <td>[rich, engrossing, great, work, history, cover...</td>\n",
       "      <td>[rich, engross, great, work, histori, cover, b...</td>\n",
       "      <td>[(rich, JJ), (engrossing, VBG), (great, JJ), (...</td>\n",
       "    </tr>\n",
       "    <tr>\n",
       "      <th>2</th>\n",
       "      <td>2</td>\n",
       "      <td>My Mother... My Opinion??</td>\n",
       "      <td>It took me a while to get into this book... th...</td>\n",
       "      <td>My Mother... My Opinion?? It took me a while t...</td>\n",
       "      <td>my mother my opinion it took me a while to get...</td>\n",
       "      <td>[mother, opinion, took, get, book, several, oc...</td>\n",
       "      <td>[mother, opinion, took, get, book, sever, occa...</td>\n",
       "      <td>[(mother, NN), (opinion, NN), (took, VBD), (ge...</td>\n",
       "    </tr>\n",
       "    <tr>\n",
       "      <th>3</th>\n",
       "      <td>1</td>\n",
       "      <td>A bit disappointed</td>\n",
       "      <td>This was my first digital camera. At first I w...</td>\n",
       "      <td>A bit disappointed This was my first digital c...</td>\n",
       "      <td>a bit disappointed this was my first digital c...</td>\n",
       "      <td>[bit, disappointed, first, digital, camera, fi...</td>\n",
       "      <td>[bit, disappoint, first, digit, camera, first,...</td>\n",
       "      <td>[(bit, NN), (disappointed, JJ), (first, JJ), (...</td>\n",
       "    </tr>\n",
       "    <tr>\n",
       "      <th>4</th>\n",
       "      <td>2</td>\n",
       "      <td>review of Awakening Curry Buckle</td>\n",
       "      <td>Darwin Bownes is a 10th grader who moves to Kl...</td>\n",
       "      <td>review of Awakening Curry Buckle Darwin Bownes...</td>\n",
       "      <td>review of awakening curry buckle darwin bownes...</td>\n",
       "      <td>[review, awakening, curry, buckle, darwin, bow...</td>\n",
       "      <td>[review, awaken, curri, buckl, darwin, bown, t...</td>\n",
       "      <td>[(review, NN), (awakening, VBG), (curry, JJ), ...</td>\n",
       "    </tr>\n",
       "  </tbody>\n",
       "</table>\n",
       "</div>"
      ],
      "text/plain": [
       "   sentiment                             title  \\\n",
       "0          1                       ZZZZZZZZZZZ   \n",
       "1          2                  Rich, Engrossing   \n",
       "2          2         My Mother... My Opinion??   \n",
       "3          1                A bit disappointed   \n",
       "4          2  review of Awakening Curry Buckle   \n",
       "\n",
       "                                                text  \\\n",
       "0  Basically the movie is just people running aro...   \n",
       "1  This is a great work of history. It covers the...   \n",
       "2  It took me a while to get into this book... th...   \n",
       "3  This was my first digital camera. At first I w...   \n",
       "4  Darwin Bownes is a 10th grader who moves to Kl...   \n",
       "\n",
       "                                             content  \\\n",
       "0  ZZZZZZZZZZZ Basically the movie is just people...   \n",
       "1  Rich, Engrossing This is a great work of histo...   \n",
       "2  My Mother... My Opinion?? It took me a while t...   \n",
       "3  A bit disappointed This was my first digital c...   \n",
       "4  review of Awakening Curry Buckle Darwin Bownes...   \n",
       "\n",
       "                                      text_processed  \\\n",
       "0  zzzzzzzzzzz basically the movie is just people...   \n",
       "1  rich engrossing this is a great work of histor...   \n",
       "2  my mother my opinion it took me a while to get...   \n",
       "3  a bit disappointed this was my first digital c...   \n",
       "4  review of awakening curry buckle darwin bownes...   \n",
       "\n",
       "                                         text_tokens  \\\n",
       "0  [zzzzzzzzzzz, basically, movie, people, runnin...   \n",
       "1  [rich, engrossing, great, work, history, cover...   \n",
       "2  [mother, opinion, took, get, book, several, oc...   \n",
       "3  [bit, disappointed, first, digital, camera, fi...   \n",
       "4  [review, awakening, curry, buckle, darwin, bow...   \n",
       "\n",
       "                                      text_lemmatize  \\\n",
       "0  [zzzzzzzzzzz, basic, movi, peopl, run, around,...   \n",
       "1  [rich, engross, great, work, histori, cover, b...   \n",
       "2  [mother, opinion, took, get, book, sever, occa...   \n",
       "3  [bit, disappoint, first, digit, camera, first,...   \n",
       "4  [review, awaken, curri, buckl, darwin, bown, t...   \n",
       "\n",
       "                                       text_entities  \n",
       "0  [(zzzzzzzzzzz, NN), (basically, RB), (movie, N...  \n",
       "1  [(rich, JJ), (engrossing, VBG), (great, JJ), (...  \n",
       "2  [(mother, NN), (opinion, NN), (took, VBD), (ge...  \n",
       "3  [(bit, NN), (disappointed, JJ), (first, JJ), (...  \n",
       "4  [(review, NN), (awakening, VBG), (curry, JJ), ...  "
      ]
     },
     "execution_count": 12,
     "metadata": {},
     "output_type": "execute_result"
    }
   ],
   "source": [
    "# Let's have a look at our processed Data Frame\n",
    "df.head()"
   ]
  },
  {
   "cell_type": "markdown",
   "metadata": {},
   "source": [
    "Let's have a deeper look what our columns look like"
   ]
  },
  {
   "cell_type": "code",
   "execution_count": 13,
   "metadata": {
    "execution": {
     "iopub.execute_input": "2022-12-28T23:39:53.117412Z",
     "iopub.status.busy": "2022-12-28T23:39:53.116371Z",
     "iopub.status.idle": "2022-12-28T23:39:53.125901Z",
     "shell.execute_reply": "2022-12-28T23:39:53.124452Z",
     "shell.execute_reply.started": "2022-12-28T23:39:53.117368Z"
    }
   },
   "outputs": [
    {
     "data": {
      "text/plain": [
       "'my mother my opinion it took me a while to get into this book there were several occasions where i tempted to give up on itim glad i stuck with it thoughthose of you with a difficult motherdaughter relationship will probably benefit from reading this book i know i did even though the author isnt a mother which does bother me a little i feel that her theories make sensethe version i have of this book is quite old and was published in i picked it up in a used bookstore im not sure what type of editing has been done on newer versions but im sure the main message will be the samemy mother my self would benefit women who would like a deeper understanding of their relationship with their own mother and also their daughters men might like to read this to understand the complex dynamics of these relationships'"
      ]
     },
     "execution_count": 13,
     "metadata": {},
     "output_type": "execute_result"
    }
   ],
   "source": [
    "df.text_processed[2] # show processed text number 3"
   ]
  },
  {
   "cell_type": "markdown",
   "metadata": {},
   "source": [
    "We can see that the text is all in lower case, without punctuation marks, numbers or line breaks."
   ]
  },
  {
   "cell_type": "code",
   "execution_count": 14,
   "metadata": {
    "_kg_hide-output": true,
    "collapsed": true,
    "execution": {
     "iopub.execute_input": "2022-12-28T23:39:53.128515Z",
     "iopub.status.busy": "2022-12-28T23:39:53.127971Z",
     "iopub.status.idle": "2022-12-28T23:39:53.142440Z",
     "shell.execute_reply": "2022-12-28T23:39:53.140957Z",
     "shell.execute_reply.started": "2022-12-28T23:39:53.128448Z"
    }
   },
   "outputs": [
    {
     "data": {
      "text/plain": [
       "['mother',\n",
       " 'opinion',\n",
       " 'took',\n",
       " 'get',\n",
       " 'book',\n",
       " 'several',\n",
       " 'occasions',\n",
       " 'tempted',\n",
       " 'give',\n",
       " 'itim',\n",
       " 'glad',\n",
       " 'stuck',\n",
       " 'thoughthose',\n",
       " 'difficult',\n",
       " 'motherdaughter',\n",
       " 'relationship',\n",
       " 'probably',\n",
       " 'benefit',\n",
       " 'reading',\n",
       " 'book',\n",
       " 'know',\n",
       " 'even',\n",
       " 'though',\n",
       " 'author',\n",
       " 'isnt',\n",
       " 'mother',\n",
       " 'bother',\n",
       " 'little',\n",
       " 'feel',\n",
       " 'theories',\n",
       " 'make',\n",
       " 'sensethe',\n",
       " 'version',\n",
       " 'book',\n",
       " 'quite',\n",
       " 'old',\n",
       " 'published',\n",
       " 'picked',\n",
       " 'used',\n",
       " 'bookstore',\n",
       " 'im',\n",
       " 'sure',\n",
       " 'type',\n",
       " 'editing',\n",
       " 'done',\n",
       " 'newer',\n",
       " 'versions',\n",
       " 'im',\n",
       " 'sure',\n",
       " 'main',\n",
       " 'message',\n",
       " 'samemy',\n",
       " 'mother',\n",
       " 'self',\n",
       " 'would',\n",
       " 'benefit',\n",
       " 'women',\n",
       " 'would',\n",
       " 'like',\n",
       " 'deeper',\n",
       " 'understanding',\n",
       " 'relationship',\n",
       " 'mother',\n",
       " 'also',\n",
       " 'daughters',\n",
       " 'men',\n",
       " 'might',\n",
       " 'like',\n",
       " 'read',\n",
       " 'understand',\n",
       " 'complex',\n",
       " 'dynamics',\n",
       " 'relationships']"
      ]
     },
     "execution_count": 14,
     "metadata": {},
     "output_type": "execute_result"
    }
   ],
   "source": [
    "df.text_tokens[2] # show tokenized text number 3"
   ]
  },
  {
   "cell_type": "markdown",
   "metadata": {},
   "source": [
    "We can see that we successfully tokenized our text, and also removed the stopwords."
   ]
  },
  {
   "cell_type": "code",
   "execution_count": 15,
   "metadata": {
    "_kg_hide-output": true,
    "collapsed": true,
    "execution": {
     "iopub.execute_input": "2022-12-28T23:39:53.146687Z",
     "iopub.status.busy": "2022-12-28T23:39:53.145297Z",
     "iopub.status.idle": "2022-12-28T23:39:53.156747Z",
     "shell.execute_reply": "2022-12-28T23:39:53.155319Z",
     "shell.execute_reply.started": "2022-12-28T23:39:53.146638Z"
    }
   },
   "outputs": [
    {
     "data": {
      "text/plain": [
       "['mother',\n",
       " 'opinion',\n",
       " 'took',\n",
       " 'get',\n",
       " 'book',\n",
       " 'sever',\n",
       " 'occas',\n",
       " 'tempt',\n",
       " 'give',\n",
       " 'itim',\n",
       " 'glad',\n",
       " 'stuck',\n",
       " 'thoughthos',\n",
       " 'difficult',\n",
       " 'motherdaught',\n",
       " 'relationship',\n",
       " 'probabl',\n",
       " 'benefit',\n",
       " 'read',\n",
       " 'book',\n",
       " 'know',\n",
       " 'even',\n",
       " 'though',\n",
       " 'author',\n",
       " 'isnt',\n",
       " 'mother',\n",
       " 'bother',\n",
       " 'littl',\n",
       " 'feel',\n",
       " 'theori',\n",
       " 'make',\n",
       " 'senseth',\n",
       " 'version',\n",
       " 'book',\n",
       " 'quit',\n",
       " 'old',\n",
       " 'publish',\n",
       " 'pick',\n",
       " 'use',\n",
       " 'bookstor',\n",
       " 'im',\n",
       " 'sure',\n",
       " 'type',\n",
       " 'edit',\n",
       " 'done',\n",
       " 'newer',\n",
       " 'version',\n",
       " 'im',\n",
       " 'sure',\n",
       " 'main',\n",
       " 'messag',\n",
       " 'samemi',\n",
       " 'mother',\n",
       " 'self',\n",
       " 'would',\n",
       " 'benefit',\n",
       " 'woman',\n",
       " 'would',\n",
       " 'like',\n",
       " 'deeper',\n",
       " 'understand',\n",
       " 'relationship',\n",
       " 'mother',\n",
       " 'also',\n",
       " 'daughter',\n",
       " 'men',\n",
       " 'might',\n",
       " 'like',\n",
       " 'read',\n",
       " 'understand',\n",
       " 'complex',\n",
       " 'dynam',\n",
       " 'relationship']"
      ]
     },
     "execution_count": 15,
     "metadata": {},
     "output_type": "execute_result"
    }
   ],
   "source": [
    "df.text_lemmatize[2] # show lemmatized text number 3"
   ]
  },
  {
   "cell_type": "markdown",
   "metadata": {},
   "source": [
    "**Named Entity Recognition (NER)** is a technique used in natural language processing (NLP) to identify and classify named entities in text data. Named entities are specific words or phrases that represent real-world objects, such as people, organizations, locations, and dates."
   ]
  },
  {
   "cell_type": "code",
   "execution_count": 16,
   "metadata": {
    "_kg_hide-output": true,
    "collapsed": true,
    "execution": {
     "iopub.execute_input": "2022-12-28T23:39:53.159095Z",
     "iopub.status.busy": "2022-12-28T23:39:53.158679Z",
     "iopub.status.idle": "2022-12-28T23:39:53.239087Z",
     "shell.execute_reply": "2022-12-28T23:39:53.237762Z",
     "shell.execute_reply.started": "2022-12-28T23:39:53.159058Z"
    }
   },
   "outputs": [
    {
     "data": {
      "text/plain": [
       "0        [(zzzzzzzzzzz, NN), (basically, RB), (movie, N...\n",
       "1        [(rich, JJ), (engrossing, VBG), (great, JJ), (...\n",
       "2        [(mother, NN), (opinion, NN), (took, VBD), (ge...\n",
       "3        [(bit, NN), (disappointed, JJ), (first, JJ), (...\n",
       "4        [(review, NN), (awakening, VBG), (curry, JJ), ...\n",
       "                               ...                        \n",
       "39995    [(toxic, NN), (smell, NN), (smell, NN), (horri...\n",
       "39996    [(useless, JJ), (collectors, NNS), (book, NN),...\n",
       "39997    [(clambakes, NNS), (life, NN), (every, DT), (y...\n",
       "39998    [(perfect, JJ), (shade, NN), (red, VBD), (cani...\n",
       "39999    [(praise, NN), (thanks, NNS), (hollywoodites, ...\n",
       "Name: text_entities, Length: 40000, dtype: object"
      ]
     },
     "execution_count": 16,
     "metadata": {},
     "output_type": "execute_result"
    }
   ],
   "source": [
    "df.text_entities # show entities of text number 3"
   ]
  },
  {
   "cell_type": "markdown",
   "metadata": {},
   "source": [
    "Here we can see the results of NER, let's look closer in a nice diagram"
   ]
  },
  {
   "cell_type": "markdown",
   "metadata": {},
   "source": [
    "**part-of-speech (POS)** tagging is a process of marking each word in a text with a POS tag to indicate its grammatical role in the sentence.  They are typically represented as a sequence of symbols that follow each word in the text, with each symbol representing a specific grammatical role. <br>\n",
    "For example: NN: Noun, singular or mass, JJ: Adjective, VB: Verb.."
   ]
  },
  {
   "cell_type": "code",
   "execution_count": 17,
   "metadata": {
    "_kg_hide-output": true,
    "collapsed": true,
    "execution": {
     "iopub.execute_input": "2022-12-28T23:39:53.241823Z",
     "iopub.status.busy": "2022-12-28T23:39:53.241408Z",
     "iopub.status.idle": "2022-12-28T23:39:53.363839Z",
     "shell.execute_reply": "2022-12-28T23:39:53.362429Z",
     "shell.execute_reply.started": "2022-12-28T23:39:53.241788Z"
    }
   },
   "outputs": [
    {
     "data": {
      "image/svg+xml": [
       "<svg baseProfile=\"full\" height=\"120px\" preserveAspectRatio=\"xMidYMid meet\" style=\"font-family: times, serif; font-weight:normal; font-style: normal; font-size: 16px;\" version=\"1.1\" viewBox=\"0,0,4744.0,120.0\" width=\"4744px\" xmlns=\"http://www.w3.org/2000/svg\" xmlns:ev=\"http://www.w3.org/2001/xml-events\" xmlns:xlink=\"http://www.w3.org/1999/xlink\"><defs /><svg width=\"100%\" x=\"0\" y=\"0em\"><defs /><text text-anchor=\"middle\" x=\"50%\" y=\"1em\">S</text></svg><svg width=\"1.34907%\" x=\"0%\" y=\"3em\"><defs /><svg width=\"100%\" x=\"0\" y=\"0em\"><defs /><text text-anchor=\"middle\" x=\"50%\" y=\"1em\">mother</text></svg><svg width=\"100%\" x=\"0%\" y=\"3em\"><defs /><svg width=\"100%\" x=\"0\" y=\"0em\"><defs /><text text-anchor=\"middle\" x=\"50%\" y=\"1em\">NN</text></svg></svg><line stroke=\"black\" x1=\"50%\" x2=\"50%\" y1=\"1.2em\" y2=\"3em\" /></svg><line stroke=\"black\" x1=\"50%\" x2=\"0.674536%\" y1=\"1.2em\" y2=\"3em\" /><svg width=\"1.51771%\" x=\"1.34907%\" y=\"3em\"><defs /><svg width=\"100%\" x=\"0\" y=\"0em\"><defs /><text text-anchor=\"middle\" x=\"50%\" y=\"1em\">opinion</text></svg><svg width=\"100%\" x=\"0%\" y=\"3em\"><defs /><svg width=\"100%\" x=\"0\" y=\"0em\"><defs /><text text-anchor=\"middle\" x=\"50%\" y=\"1em\">NN</text></svg></svg><line stroke=\"black\" x1=\"50%\" x2=\"50%\" y1=\"1.2em\" y2=\"3em\" /></svg><line stroke=\"black\" x1=\"50%\" x2=\"2.10793%\" y1=\"1.2em\" y2=\"3em\" /><svg width=\"1.0118%\" x=\"2.86678%\" y=\"3em\"><defs /><svg width=\"100%\" x=\"0\" y=\"0em\"><defs /><text text-anchor=\"middle\" x=\"50%\" y=\"1em\">took</text></svg><svg width=\"100%\" x=\"0%\" y=\"3em\"><defs /><svg width=\"100%\" x=\"0\" y=\"0em\"><defs /><text text-anchor=\"middle\" x=\"50%\" y=\"1em\">VBD</text></svg></svg><line stroke=\"black\" x1=\"50%\" x2=\"50%\" y1=\"1.2em\" y2=\"3em\" /></svg><line stroke=\"black\" x1=\"50%\" x2=\"3.37268%\" y1=\"1.2em\" y2=\"3em\" /><svg width=\"0.84317%\" x=\"3.87858%\" y=\"3em\"><defs /><svg width=\"100%\" x=\"0\" y=\"0em\"><defs /><text text-anchor=\"middle\" x=\"50%\" y=\"1em\">get</text></svg><svg width=\"100%\" x=\"0%\" y=\"3em\"><defs /><svg width=\"100%\" x=\"0\" y=\"0em\"><defs /><text text-anchor=\"middle\" x=\"50%\" y=\"1em\">VB</text></svg></svg><line stroke=\"black\" x1=\"50%\" x2=\"50%\" y1=\"1.2em\" y2=\"3em\" /></svg><line stroke=\"black\" x1=\"50%\" x2=\"4.30017%\" y1=\"1.2em\" y2=\"3em\" /><svg width=\"1.0118%\" x=\"4.72175%\" y=\"3em\"><defs /><svg width=\"100%\" x=\"0\" y=\"0em\"><defs /><text text-anchor=\"middle\" x=\"50%\" y=\"1em\">book</text></svg><svg width=\"100%\" x=\"0%\" y=\"3em\"><defs /><svg width=\"100%\" x=\"0\" y=\"0em\"><defs /><text text-anchor=\"middle\" x=\"50%\" y=\"1em\">NN</text></svg></svg><line stroke=\"black\" x1=\"50%\" x2=\"50%\" y1=\"1.2em\" y2=\"3em\" /></svg><line stroke=\"black\" x1=\"50%\" x2=\"5.22766%\" y1=\"1.2em\" y2=\"3em\" /><svg width=\"1.51771%\" x=\"5.73356%\" y=\"3em\"><defs /><svg width=\"100%\" x=\"0\" y=\"0em\"><defs /><text text-anchor=\"middle\" x=\"50%\" y=\"1em\">several</text></svg><svg width=\"100%\" x=\"0%\" y=\"3em\"><defs /><svg width=\"100%\" x=\"0\" y=\"0em\"><defs /><text text-anchor=\"middle\" x=\"50%\" y=\"1em\">JJ</text></svg></svg><line stroke=\"black\" x1=\"50%\" x2=\"50%\" y1=\"1.2em\" y2=\"3em\" /></svg><line stroke=\"black\" x1=\"50%\" x2=\"6.49241%\" y1=\"1.2em\" y2=\"3em\" /><svg width=\"1.85497%\" x=\"7.25126%\" y=\"3em\"><defs /><svg width=\"100%\" x=\"0\" y=\"0em\"><defs /><text text-anchor=\"middle\" x=\"50%\" y=\"1em\">occasions</text></svg><svg width=\"100%\" x=\"0%\" y=\"3em\"><defs /><svg width=\"100%\" x=\"0\" y=\"0em\"><defs /><text text-anchor=\"middle\" x=\"50%\" y=\"1em\">NNS</text></svg></svg><line stroke=\"black\" x1=\"50%\" x2=\"50%\" y1=\"1.2em\" y2=\"3em\" /></svg><line stroke=\"black\" x1=\"50%\" x2=\"8.17875%\" y1=\"1.2em\" y2=\"3em\" /><svg width=\"1.51771%\" x=\"9.10624%\" y=\"3em\"><defs /><svg width=\"100%\" x=\"0\" y=\"0em\"><defs /><text text-anchor=\"middle\" x=\"50%\" y=\"1em\">tempted</text></svg><svg width=\"100%\" x=\"0%\" y=\"3em\"><defs /><svg width=\"100%\" x=\"0\" y=\"0em\"><defs /><text text-anchor=\"middle\" x=\"50%\" y=\"1em\">VBD</text></svg></svg><line stroke=\"black\" x1=\"50%\" x2=\"50%\" y1=\"1.2em\" y2=\"3em\" /></svg><line stroke=\"black\" x1=\"50%\" x2=\"9.86509%\" y1=\"1.2em\" y2=\"3em\" /><svg width=\"1.0118%\" x=\"10.6239%\" y=\"3em\"><defs /><svg width=\"100%\" x=\"0\" y=\"0em\"><defs /><text text-anchor=\"middle\" x=\"50%\" y=\"1em\">give</text></svg><svg width=\"100%\" x=\"0%\" y=\"3em\"><defs /><svg width=\"100%\" x=\"0\" y=\"0em\"><defs /><text text-anchor=\"middle\" x=\"50%\" y=\"1em\">JJ</text></svg></svg><line stroke=\"black\" x1=\"50%\" x2=\"50%\" y1=\"1.2em\" y2=\"3em\" /></svg><line stroke=\"black\" x1=\"50%\" x2=\"11.1298%\" y1=\"1.2em\" y2=\"3em\" /><svg width=\"1.0118%\" x=\"11.6358%\" y=\"3em\"><defs /><svg width=\"100%\" x=\"0\" y=\"0em\"><defs /><text text-anchor=\"middle\" x=\"50%\" y=\"1em\">itim</text></svg><svg width=\"100%\" x=\"0%\" y=\"3em\"><defs /><svg width=\"100%\" x=\"0\" y=\"0em\"><defs /><text text-anchor=\"middle\" x=\"50%\" y=\"1em\">NN</text></svg></svg><line stroke=\"black\" x1=\"50%\" x2=\"50%\" y1=\"1.2em\" y2=\"3em\" /></svg><line stroke=\"black\" x1=\"50%\" x2=\"12.1417%\" y1=\"1.2em\" y2=\"3em\" /><svg width=\"1.0118%\" x=\"12.6476%\" y=\"3em\"><defs /><svg width=\"100%\" x=\"0\" y=\"0em\"><defs /><text text-anchor=\"middle\" x=\"50%\" y=\"1em\">glad</text></svg><svg width=\"100%\" x=\"0%\" y=\"3em\"><defs /><svg width=\"100%\" x=\"0\" y=\"0em\"><defs /><text text-anchor=\"middle\" x=\"50%\" y=\"1em\">JJ</text></svg></svg><line stroke=\"black\" x1=\"50%\" x2=\"50%\" y1=\"1.2em\" y2=\"3em\" /></svg><line stroke=\"black\" x1=\"50%\" x2=\"13.1535%\" y1=\"1.2em\" y2=\"3em\" /><svg width=\"1.18044%\" x=\"13.6594%\" y=\"3em\"><defs /><svg width=\"100%\" x=\"0\" y=\"0em\"><defs /><text text-anchor=\"middle\" x=\"50%\" y=\"1em\">stuck</text></svg><svg width=\"100%\" x=\"0%\" y=\"3em\"><defs /><svg width=\"100%\" x=\"0\" y=\"0em\"><defs /><text text-anchor=\"middle\" x=\"50%\" y=\"1em\">VBD</text></svg></svg><line stroke=\"black\" x1=\"50%\" x2=\"50%\" y1=\"1.2em\" y2=\"3em\" /></svg><line stroke=\"black\" x1=\"50%\" x2=\"14.2496%\" y1=\"1.2em\" y2=\"3em\" /><svg width=\"2.19224%\" x=\"14.8398%\" y=\"3em\"><defs /><svg width=\"100%\" x=\"0\" y=\"0em\"><defs /><text text-anchor=\"middle\" x=\"50%\" y=\"1em\">thoughthose</text></svg><svg width=\"100%\" x=\"0%\" y=\"3em\"><defs /><svg width=\"100%\" x=\"0\" y=\"0em\"><defs /><text text-anchor=\"middle\" x=\"50%\" y=\"1em\">JJ</text></svg></svg><line stroke=\"black\" x1=\"50%\" x2=\"50%\" y1=\"1.2em\" y2=\"3em\" /></svg><line stroke=\"black\" x1=\"50%\" x2=\"15.9359%\" y1=\"1.2em\" y2=\"3em\" /><svg width=\"1.85497%\" x=\"17.032%\" y=\"3em\"><defs /><svg width=\"100%\" x=\"0\" y=\"0em\"><defs /><text text-anchor=\"middle\" x=\"50%\" y=\"1em\">difficult</text></svg><svg width=\"100%\" x=\"0%\" y=\"3em\"><defs /><svg width=\"100%\" x=\"0\" y=\"0em\"><defs /><text text-anchor=\"middle\" x=\"50%\" y=\"1em\">JJ</text></svg></svg><line stroke=\"black\" x1=\"50%\" x2=\"50%\" y1=\"1.2em\" y2=\"3em\" /></svg><line stroke=\"black\" x1=\"50%\" x2=\"17.9595%\" y1=\"1.2em\" y2=\"3em\" /><svg width=\"2.69815%\" x=\"18.887%\" y=\"3em\"><defs /><svg width=\"100%\" x=\"0\" y=\"0em\"><defs /><text text-anchor=\"middle\" x=\"50%\" y=\"1em\">motherdaughter</text></svg><svg width=\"100%\" x=\"0%\" y=\"3em\"><defs /><svg width=\"100%\" x=\"0\" y=\"0em\"><defs /><text text-anchor=\"middle\" x=\"50%\" y=\"1em\">NN</text></svg></svg><line stroke=\"black\" x1=\"50%\" x2=\"50%\" y1=\"1.2em\" y2=\"3em\" /></svg><line stroke=\"black\" x1=\"50%\" x2=\"20.2361%\" y1=\"1.2em\" y2=\"3em\" /><svg width=\"2.36088%\" x=\"21.5852%\" y=\"3em\"><defs /><svg width=\"100%\" x=\"0\" y=\"0em\"><defs /><text text-anchor=\"middle\" x=\"50%\" y=\"1em\">relationship</text></svg><svg width=\"100%\" x=\"0%\" y=\"3em\"><defs /><svg width=\"100%\" x=\"0\" y=\"0em\"><defs /><text text-anchor=\"middle\" x=\"50%\" y=\"1em\">NN</text></svg></svg><line stroke=\"black\" x1=\"50%\" x2=\"50%\" y1=\"1.2em\" y2=\"3em\" /></svg><line stroke=\"black\" x1=\"50%\" x2=\"22.7656%\" y1=\"1.2em\" y2=\"3em\" /><svg width=\"1.68634%\" x=\"23.946%\" y=\"3em\"><defs /><svg width=\"100%\" x=\"0\" y=\"0em\"><defs /><text text-anchor=\"middle\" x=\"50%\" y=\"1em\">probably</text></svg><svg width=\"100%\" x=\"0%\" y=\"3em\"><defs /><svg width=\"100%\" x=\"0\" y=\"0em\"><defs /><text text-anchor=\"middle\" x=\"50%\" y=\"1em\">RB</text></svg></svg><line stroke=\"black\" x1=\"50%\" x2=\"50%\" y1=\"1.2em\" y2=\"3em\" /></svg><line stroke=\"black\" x1=\"50%\" x2=\"24.7892%\" y1=\"1.2em\" y2=\"3em\" /><svg width=\"1.51771%\" x=\"25.6324%\" y=\"3em\"><defs /><svg width=\"100%\" x=\"0\" y=\"0em\"><defs /><text text-anchor=\"middle\" x=\"50%\" y=\"1em\">benefit</text></svg><svg width=\"100%\" x=\"0%\" y=\"3em\"><defs /><svg width=\"100%\" x=\"0\" y=\"0em\"><defs /><text text-anchor=\"middle\" x=\"50%\" y=\"1em\">VB</text></svg></svg><line stroke=\"black\" x1=\"50%\" x2=\"50%\" y1=\"1.2em\" y2=\"3em\" /></svg><line stroke=\"black\" x1=\"50%\" x2=\"26.3912%\" y1=\"1.2em\" y2=\"3em\" /><svg width=\"1.51771%\" x=\"27.1501%\" y=\"3em\"><defs /><svg width=\"100%\" x=\"0\" y=\"0em\"><defs /><text text-anchor=\"middle\" x=\"50%\" y=\"1em\">reading</text></svg><svg width=\"100%\" x=\"0%\" y=\"3em\"><defs /><svg width=\"100%\" x=\"0\" y=\"0em\"><defs /><text text-anchor=\"middle\" x=\"50%\" y=\"1em\">VBG</text></svg></svg><line stroke=\"black\" x1=\"50%\" x2=\"50%\" y1=\"1.2em\" y2=\"3em\" /></svg><line stroke=\"black\" x1=\"50%\" x2=\"27.9089%\" y1=\"1.2em\" y2=\"3em\" /><svg width=\"1.0118%\" x=\"28.6678%\" y=\"3em\"><defs /><svg width=\"100%\" x=\"0\" y=\"0em\"><defs /><text text-anchor=\"middle\" x=\"50%\" y=\"1em\">book</text></svg><svg width=\"100%\" x=\"0%\" y=\"3em\"><defs /><svg width=\"100%\" x=\"0\" y=\"0em\"><defs /><text text-anchor=\"middle\" x=\"50%\" y=\"1em\">NN</text></svg></svg><line stroke=\"black\" x1=\"50%\" x2=\"50%\" y1=\"1.2em\" y2=\"3em\" /></svg><line stroke=\"black\" x1=\"50%\" x2=\"29.1737%\" y1=\"1.2em\" y2=\"3em\" /><svg width=\"1.0118%\" x=\"29.6796%\" y=\"3em\"><defs /><svg width=\"100%\" x=\"0\" y=\"0em\"><defs /><text text-anchor=\"middle\" x=\"50%\" y=\"1em\">know</text></svg><svg width=\"100%\" x=\"0%\" y=\"3em\"><defs /><svg width=\"100%\" x=\"0\" y=\"0em\"><defs /><text text-anchor=\"middle\" x=\"50%\" y=\"1em\">VB</text></svg></svg><line stroke=\"black\" x1=\"50%\" x2=\"50%\" y1=\"1.2em\" y2=\"3em\" /></svg><line stroke=\"black\" x1=\"50%\" x2=\"30.1855%\" y1=\"1.2em\" y2=\"3em\" /><svg width=\"1.0118%\" x=\"30.6914%\" y=\"3em\"><defs /><svg width=\"100%\" x=\"0\" y=\"0em\"><defs /><text text-anchor=\"middle\" x=\"50%\" y=\"1em\">even</text></svg><svg width=\"100%\" x=\"0%\" y=\"3em\"><defs /><svg width=\"100%\" x=\"0\" y=\"0em\"><defs /><text text-anchor=\"middle\" x=\"50%\" y=\"1em\">RB</text></svg></svg><line stroke=\"black\" x1=\"50%\" x2=\"50%\" y1=\"1.2em\" y2=\"3em\" /></svg><line stroke=\"black\" x1=\"50%\" x2=\"31.1973%\" y1=\"1.2em\" y2=\"3em\" /><svg width=\"1.34907%\" x=\"31.7032%\" y=\"3em\"><defs /><svg width=\"100%\" x=\"0\" y=\"0em\"><defs /><text text-anchor=\"middle\" x=\"50%\" y=\"1em\">though</text></svg><svg width=\"100%\" x=\"0%\" y=\"3em\"><defs /><svg width=\"100%\" x=\"0\" y=\"0em\"><defs /><text text-anchor=\"middle\" x=\"50%\" y=\"1em\">IN</text></svg></svg><line stroke=\"black\" x1=\"50%\" x2=\"50%\" y1=\"1.2em\" y2=\"3em\" /></svg><line stroke=\"black\" x1=\"50%\" x2=\"32.3777%\" y1=\"1.2em\" y2=\"3em\" /><svg width=\"1.34907%\" x=\"33.0523%\" y=\"3em\"><defs /><svg width=\"100%\" x=\"0\" y=\"0em\"><defs /><text text-anchor=\"middle\" x=\"50%\" y=\"1em\">author</text></svg><svg width=\"100%\" x=\"0%\" y=\"3em\"><defs /><svg width=\"100%\" x=\"0\" y=\"0em\"><defs /><text text-anchor=\"middle\" x=\"50%\" y=\"1em\">NN</text></svg></svg><line stroke=\"black\" x1=\"50%\" x2=\"50%\" y1=\"1.2em\" y2=\"3em\" /></svg><line stroke=\"black\" x1=\"50%\" x2=\"33.7268%\" y1=\"1.2em\" y2=\"3em\" /><svg width=\"1.0118%\" x=\"34.4013%\" y=\"3em\"><defs /><svg width=\"100%\" x=\"0\" y=\"0em\"><defs /><text text-anchor=\"middle\" x=\"50%\" y=\"1em\">isnt</text></svg><svg width=\"100%\" x=\"0%\" y=\"3em\"><defs /><svg width=\"100%\" x=\"0\" y=\"0em\"><defs /><text text-anchor=\"middle\" x=\"50%\" y=\"1em\">NN</text></svg></svg><line stroke=\"black\" x1=\"50%\" x2=\"50%\" y1=\"1.2em\" y2=\"3em\" /></svg><line stroke=\"black\" x1=\"50%\" x2=\"34.9073%\" y1=\"1.2em\" y2=\"3em\" /><svg width=\"1.34907%\" x=\"35.4132%\" y=\"3em\"><defs /><svg width=\"100%\" x=\"0\" y=\"0em\"><defs /><text text-anchor=\"middle\" x=\"50%\" y=\"1em\">mother</text></svg><svg width=\"100%\" x=\"0%\" y=\"3em\"><defs /><svg width=\"100%\" x=\"0\" y=\"0em\"><defs /><text text-anchor=\"middle\" x=\"50%\" y=\"1em\">NN</text></svg></svg><line stroke=\"black\" x1=\"50%\" x2=\"50%\" y1=\"1.2em\" y2=\"3em\" /></svg><line stroke=\"black\" x1=\"50%\" x2=\"36.0877%\" y1=\"1.2em\" y2=\"3em\" /><svg width=\"1.34907%\" x=\"36.7622%\" y=\"3em\"><defs /><svg width=\"100%\" x=\"0\" y=\"0em\"><defs /><text text-anchor=\"middle\" x=\"50%\" y=\"1em\">bother</text></svg><svg width=\"100%\" x=\"0%\" y=\"3em\"><defs /><svg width=\"100%\" x=\"0\" y=\"0em\"><defs /><text text-anchor=\"middle\" x=\"50%\" y=\"1em\">RB</text></svg></svg><line stroke=\"black\" x1=\"50%\" x2=\"50%\" y1=\"1.2em\" y2=\"3em\" /></svg><line stroke=\"black\" x1=\"50%\" x2=\"37.4368%\" y1=\"1.2em\" y2=\"3em\" /><svg width=\"1.34907%\" x=\"38.1113%\" y=\"3em\"><defs /><svg width=\"100%\" x=\"0\" y=\"0em\"><defs /><text text-anchor=\"middle\" x=\"50%\" y=\"1em\">little</text></svg><svg width=\"100%\" x=\"0%\" y=\"3em\"><defs /><svg width=\"100%\" x=\"0\" y=\"0em\"><defs /><text text-anchor=\"middle\" x=\"50%\" y=\"1em\">JJ</text></svg></svg><line stroke=\"black\" x1=\"50%\" x2=\"50%\" y1=\"1.2em\" y2=\"3em\" /></svg><line stroke=\"black\" x1=\"50%\" x2=\"38.7858%\" y1=\"1.2em\" y2=\"3em\" /><svg width=\"1.0118%\" x=\"39.4604%\" y=\"3em\"><defs /><svg width=\"100%\" x=\"0\" y=\"0em\"><defs /><text text-anchor=\"middle\" x=\"50%\" y=\"1em\">feel</text></svg><svg width=\"100%\" x=\"0%\" y=\"3em\"><defs /><svg width=\"100%\" x=\"0\" y=\"0em\"><defs /><text text-anchor=\"middle\" x=\"50%\" y=\"1em\">JJ</text></svg></svg><line stroke=\"black\" x1=\"50%\" x2=\"50%\" y1=\"1.2em\" y2=\"3em\" /></svg><line stroke=\"black\" x1=\"50%\" x2=\"39.9663%\" y1=\"1.2em\" y2=\"3em\" /><svg width=\"1.68634%\" x=\"40.4722%\" y=\"3em\"><defs /><svg width=\"100%\" x=\"0\" y=\"0em\"><defs /><text text-anchor=\"middle\" x=\"50%\" y=\"1em\">theories</text></svg><svg width=\"100%\" x=\"0%\" y=\"3em\"><defs /><svg width=\"100%\" x=\"0\" y=\"0em\"><defs /><text text-anchor=\"middle\" x=\"50%\" y=\"1em\">NNS</text></svg></svg><line stroke=\"black\" x1=\"50%\" x2=\"50%\" y1=\"1.2em\" y2=\"3em\" /></svg><line stroke=\"black\" x1=\"50%\" x2=\"41.3153%\" y1=\"1.2em\" y2=\"3em\" /><svg width=\"1.0118%\" x=\"42.1585%\" y=\"3em\"><defs /><svg width=\"100%\" x=\"0\" y=\"0em\"><defs /><text text-anchor=\"middle\" x=\"50%\" y=\"1em\">make</text></svg><svg width=\"100%\" x=\"0%\" y=\"3em\"><defs /><svg width=\"100%\" x=\"0\" y=\"0em\"><defs /><text text-anchor=\"middle\" x=\"50%\" y=\"1em\">VBP</text></svg></svg><line stroke=\"black\" x1=\"50%\" x2=\"50%\" y1=\"1.2em\" y2=\"3em\" /></svg><line stroke=\"black\" x1=\"50%\" x2=\"42.6644%\" y1=\"1.2em\" y2=\"3em\" /><svg width=\"1.68634%\" x=\"43.1703%\" y=\"3em\"><defs /><svg width=\"100%\" x=\"0\" y=\"0em\"><defs /><text text-anchor=\"middle\" x=\"50%\" y=\"1em\">sensethe</text></svg><svg width=\"100%\" x=\"0%\" y=\"3em\"><defs /><svg width=\"100%\" x=\"0\" y=\"0em\"><defs /><text text-anchor=\"middle\" x=\"50%\" y=\"1em\">JJ</text></svg></svg><line stroke=\"black\" x1=\"50%\" x2=\"50%\" y1=\"1.2em\" y2=\"3em\" /></svg><line stroke=\"black\" x1=\"50%\" x2=\"44.0135%\" y1=\"1.2em\" y2=\"3em\" /><svg width=\"1.51771%\" x=\"44.8567%\" y=\"3em\"><defs /><svg width=\"100%\" x=\"0\" y=\"0em\"><defs /><text text-anchor=\"middle\" x=\"50%\" y=\"1em\">version</text></svg><svg width=\"100%\" x=\"0%\" y=\"3em\"><defs /><svg width=\"100%\" x=\"0\" y=\"0em\"><defs /><text text-anchor=\"middle\" x=\"50%\" y=\"1em\">NN</text></svg></svg><line stroke=\"black\" x1=\"50%\" x2=\"50%\" y1=\"1.2em\" y2=\"3em\" /></svg><line stroke=\"black\" x1=\"50%\" x2=\"45.6155%\" y1=\"1.2em\" y2=\"3em\" /><svg width=\"1.0118%\" x=\"46.3744%\" y=\"3em\"><defs /><svg width=\"100%\" x=\"0\" y=\"0em\"><defs /><text text-anchor=\"middle\" x=\"50%\" y=\"1em\">book</text></svg><svg width=\"100%\" x=\"0%\" y=\"3em\"><defs /><svg width=\"100%\" x=\"0\" y=\"0em\"><defs /><text text-anchor=\"middle\" x=\"50%\" y=\"1em\">NN</text></svg></svg><line stroke=\"black\" x1=\"50%\" x2=\"50%\" y1=\"1.2em\" y2=\"3em\" /></svg><line stroke=\"black\" x1=\"50%\" x2=\"46.8803%\" y1=\"1.2em\" y2=\"3em\" /><svg width=\"1.18044%\" x=\"47.3862%\" y=\"3em\"><defs /><svg width=\"100%\" x=\"0\" y=\"0em\"><defs /><text text-anchor=\"middle\" x=\"50%\" y=\"1em\">quite</text></svg><svg width=\"100%\" x=\"0%\" y=\"3em\"><defs /><svg width=\"100%\" x=\"0\" y=\"0em\"><defs /><text text-anchor=\"middle\" x=\"50%\" y=\"1em\">RB</text></svg></svg><line stroke=\"black\" x1=\"50%\" x2=\"50%\" y1=\"1.2em\" y2=\"3em\" /></svg><line stroke=\"black\" x1=\"50%\" x2=\"47.9764%\" y1=\"1.2em\" y2=\"3em\" /><svg width=\"0.84317%\" x=\"48.5666%\" y=\"3em\"><defs /><svg width=\"100%\" x=\"0\" y=\"0em\"><defs /><text text-anchor=\"middle\" x=\"50%\" y=\"1em\">old</text></svg><svg width=\"100%\" x=\"0%\" y=\"3em\"><defs /><svg width=\"100%\" x=\"0\" y=\"0em\"><defs /><text text-anchor=\"middle\" x=\"50%\" y=\"1em\">JJ</text></svg></svg><line stroke=\"black\" x1=\"50%\" x2=\"50%\" y1=\"1.2em\" y2=\"3em\" /></svg><line stroke=\"black\" x1=\"50%\" x2=\"48.9882%\" y1=\"1.2em\" y2=\"3em\" /><svg width=\"1.85497%\" x=\"49.4098%\" y=\"3em\"><defs /><svg width=\"100%\" x=\"0\" y=\"0em\"><defs /><text text-anchor=\"middle\" x=\"50%\" y=\"1em\">published</text></svg><svg width=\"100%\" x=\"0%\" y=\"3em\"><defs /><svg width=\"100%\" x=\"0\" y=\"0em\"><defs /><text text-anchor=\"middle\" x=\"50%\" y=\"1em\">VBN</text></svg></svg><line stroke=\"black\" x1=\"50%\" x2=\"50%\" y1=\"1.2em\" y2=\"3em\" /></svg><line stroke=\"black\" x1=\"50%\" x2=\"50.3373%\" y1=\"1.2em\" y2=\"3em\" /><svg width=\"1.34907%\" x=\"51.2648%\" y=\"3em\"><defs /><svg width=\"100%\" x=\"0\" y=\"0em\"><defs /><text text-anchor=\"middle\" x=\"50%\" y=\"1em\">picked</text></svg><svg width=\"100%\" x=\"0%\" y=\"3em\"><defs /><svg width=\"100%\" x=\"0\" y=\"0em\"><defs /><text text-anchor=\"middle\" x=\"50%\" y=\"1em\">VBD</text></svg></svg><line stroke=\"black\" x1=\"50%\" x2=\"50%\" y1=\"1.2em\" y2=\"3em\" /></svg><line stroke=\"black\" x1=\"50%\" x2=\"51.9393%\" y1=\"1.2em\" y2=\"3em\" /><svg width=\"1.0118%\" x=\"52.6138%\" y=\"3em\"><defs /><svg width=\"100%\" x=\"0\" y=\"0em\"><defs /><text text-anchor=\"middle\" x=\"50%\" y=\"1em\">used</text></svg><svg width=\"100%\" x=\"0%\" y=\"3em\"><defs /><svg width=\"100%\" x=\"0\" y=\"0em\"><defs /><text text-anchor=\"middle\" x=\"50%\" y=\"1em\">VBN</text></svg></svg><line stroke=\"black\" x1=\"50%\" x2=\"50%\" y1=\"1.2em\" y2=\"3em\" /></svg><line stroke=\"black\" x1=\"50%\" x2=\"53.1197%\" y1=\"1.2em\" y2=\"3em\" /><svg width=\"1.85497%\" x=\"53.6256%\" y=\"3em\"><defs /><svg width=\"100%\" x=\"0\" y=\"0em\"><defs /><text text-anchor=\"middle\" x=\"50%\" y=\"1em\">bookstore</text></svg><svg width=\"100%\" x=\"0%\" y=\"3em\"><defs /><svg width=\"100%\" x=\"0\" y=\"0em\"><defs /><text text-anchor=\"middle\" x=\"50%\" y=\"1em\">RB</text></svg></svg><line stroke=\"black\" x1=\"50%\" x2=\"50%\" y1=\"1.2em\" y2=\"3em\" /></svg><line stroke=\"black\" x1=\"50%\" x2=\"54.5531%\" y1=\"1.2em\" y2=\"3em\" /><svg width=\"0.674536%\" x=\"55.4806%\" y=\"3em\"><defs /><svg width=\"100%\" x=\"0\" y=\"0em\"><defs /><text text-anchor=\"middle\" x=\"50%\" y=\"1em\">im</text></svg><svg width=\"100%\" x=\"0%\" y=\"3em\"><defs /><svg width=\"100%\" x=\"0\" y=\"0em\"><defs /><text text-anchor=\"middle\" x=\"50%\" y=\"1em\">JJ</text></svg></svg><line stroke=\"black\" x1=\"50%\" x2=\"50%\" y1=\"1.2em\" y2=\"3em\" /></svg><line stroke=\"black\" x1=\"50%\" x2=\"55.8179%\" y1=\"1.2em\" y2=\"3em\" /><svg width=\"1.0118%\" x=\"56.1551%\" y=\"3em\"><defs /><svg width=\"100%\" x=\"0\" y=\"0em\"><defs /><text text-anchor=\"middle\" x=\"50%\" y=\"1em\">sure</text></svg><svg width=\"100%\" x=\"0%\" y=\"3em\"><defs /><svg width=\"100%\" x=\"0\" y=\"0em\"><defs /><text text-anchor=\"middle\" x=\"50%\" y=\"1em\">JJ</text></svg></svg><line stroke=\"black\" x1=\"50%\" x2=\"50%\" y1=\"1.2em\" y2=\"3em\" /></svg><line stroke=\"black\" x1=\"50%\" x2=\"56.661%\" y1=\"1.2em\" y2=\"3em\" /><svg width=\"1.0118%\" x=\"57.1669%\" y=\"3em\"><defs /><svg width=\"100%\" x=\"0\" y=\"0em\"><defs /><text text-anchor=\"middle\" x=\"50%\" y=\"1em\">type</text></svg><svg width=\"100%\" x=\"0%\" y=\"3em\"><defs /><svg width=\"100%\" x=\"0\" y=\"0em\"><defs /><text text-anchor=\"middle\" x=\"50%\" y=\"1em\">NN</text></svg></svg><line stroke=\"black\" x1=\"50%\" x2=\"50%\" y1=\"1.2em\" y2=\"3em\" /></svg><line stroke=\"black\" x1=\"50%\" x2=\"57.6728%\" y1=\"1.2em\" y2=\"3em\" /><svg width=\"1.51771%\" x=\"58.1788%\" y=\"3em\"><defs /><svg width=\"100%\" x=\"0\" y=\"0em\"><defs /><text text-anchor=\"middle\" x=\"50%\" y=\"1em\">editing</text></svg><svg width=\"100%\" x=\"0%\" y=\"3em\"><defs /><svg width=\"100%\" x=\"0\" y=\"0em\"><defs /><text text-anchor=\"middle\" x=\"50%\" y=\"1em\">VBG</text></svg></svg><line stroke=\"black\" x1=\"50%\" x2=\"50%\" y1=\"1.2em\" y2=\"3em\" /></svg><line stroke=\"black\" x1=\"50%\" x2=\"58.9376%\" y1=\"1.2em\" y2=\"3em\" /><svg width=\"1.0118%\" x=\"59.6965%\" y=\"3em\"><defs /><svg width=\"100%\" x=\"0\" y=\"0em\"><defs /><text text-anchor=\"middle\" x=\"50%\" y=\"1em\">done</text></svg><svg width=\"100%\" x=\"0%\" y=\"3em\"><defs /><svg width=\"100%\" x=\"0\" y=\"0em\"><defs /><text text-anchor=\"middle\" x=\"50%\" y=\"1em\">VBN</text></svg></svg><line stroke=\"black\" x1=\"50%\" x2=\"50%\" y1=\"1.2em\" y2=\"3em\" /></svg><line stroke=\"black\" x1=\"50%\" x2=\"60.2024%\" y1=\"1.2em\" y2=\"3em\" /><svg width=\"1.18044%\" x=\"60.7083%\" y=\"3em\"><defs /><svg width=\"100%\" x=\"0\" y=\"0em\"><defs /><text text-anchor=\"middle\" x=\"50%\" y=\"1em\">newer</text></svg><svg width=\"100%\" x=\"0%\" y=\"3em\"><defs /><svg width=\"100%\" x=\"0\" y=\"0em\"><defs /><text text-anchor=\"middle\" x=\"50%\" y=\"1em\">JJR</text></svg></svg><line stroke=\"black\" x1=\"50%\" x2=\"50%\" y1=\"1.2em\" y2=\"3em\" /></svg><line stroke=\"black\" x1=\"50%\" x2=\"61.2985%\" y1=\"1.2em\" y2=\"3em\" /><svg width=\"1.68634%\" x=\"61.8887%\" y=\"3em\"><defs /><svg width=\"100%\" x=\"0\" y=\"0em\"><defs /><text text-anchor=\"middle\" x=\"50%\" y=\"1em\">versions</text></svg><svg width=\"100%\" x=\"0%\" y=\"3em\"><defs /><svg width=\"100%\" x=\"0\" y=\"0em\"><defs /><text text-anchor=\"middle\" x=\"50%\" y=\"1em\">NNS</text></svg></svg><line stroke=\"black\" x1=\"50%\" x2=\"50%\" y1=\"1.2em\" y2=\"3em\" /></svg><line stroke=\"black\" x1=\"50%\" x2=\"62.7319%\" y1=\"1.2em\" y2=\"3em\" /><svg width=\"0.84317%\" x=\"63.575%\" y=\"3em\"><defs /><svg width=\"100%\" x=\"0\" y=\"0em\"><defs /><text text-anchor=\"middle\" x=\"50%\" y=\"1em\">im</text></svg><svg width=\"100%\" x=\"0%\" y=\"3em\"><defs /><svg width=\"100%\" x=\"0\" y=\"0em\"><defs /><text text-anchor=\"middle\" x=\"50%\" y=\"1em\">VBP</text></svg></svg><line stroke=\"black\" x1=\"50%\" x2=\"50%\" y1=\"1.2em\" y2=\"3em\" /></svg><line stroke=\"black\" x1=\"50%\" x2=\"63.9966%\" y1=\"1.2em\" y2=\"3em\" /><svg width=\"1.0118%\" x=\"64.4182%\" y=\"3em\"><defs /><svg width=\"100%\" x=\"0\" y=\"0em\"><defs /><text text-anchor=\"middle\" x=\"50%\" y=\"1em\">sure</text></svg><svg width=\"100%\" x=\"0%\" y=\"3em\"><defs /><svg width=\"100%\" x=\"0\" y=\"0em\"><defs /><text text-anchor=\"middle\" x=\"50%\" y=\"1em\">JJ</text></svg></svg><line stroke=\"black\" x1=\"50%\" x2=\"50%\" y1=\"1.2em\" y2=\"3em\" /></svg><line stroke=\"black\" x1=\"50%\" x2=\"64.9241%\" y1=\"1.2em\" y2=\"3em\" /><svg width=\"1.0118%\" x=\"65.43%\" y=\"3em\"><defs /><svg width=\"100%\" x=\"0\" y=\"0em\"><defs /><text text-anchor=\"middle\" x=\"50%\" y=\"1em\">main</text></svg><svg width=\"100%\" x=\"0%\" y=\"3em\"><defs /><svg width=\"100%\" x=\"0\" y=\"0em\"><defs /><text text-anchor=\"middle\" x=\"50%\" y=\"1em\">JJ</text></svg></svg><line stroke=\"black\" x1=\"50%\" x2=\"50%\" y1=\"1.2em\" y2=\"3em\" /></svg><line stroke=\"black\" x1=\"50%\" x2=\"65.9359%\" y1=\"1.2em\" y2=\"3em\" /><svg width=\"1.51771%\" x=\"66.4418%\" y=\"3em\"><defs /><svg width=\"100%\" x=\"0\" y=\"0em\"><defs /><text text-anchor=\"middle\" x=\"50%\" y=\"1em\">message</text></svg><svg width=\"100%\" x=\"0%\" y=\"3em\"><defs /><svg width=\"100%\" x=\"0\" y=\"0em\"><defs /><text text-anchor=\"middle\" x=\"50%\" y=\"1em\">NN</text></svg></svg><line stroke=\"black\" x1=\"50%\" x2=\"50%\" y1=\"1.2em\" y2=\"3em\" /></svg><line stroke=\"black\" x1=\"50%\" x2=\"67.2007%\" y1=\"1.2em\" y2=\"3em\" /><svg width=\"1.34907%\" x=\"67.9595%\" y=\"3em\"><defs /><svg width=\"100%\" x=\"0\" y=\"0em\"><defs /><text text-anchor=\"middle\" x=\"50%\" y=\"1em\">samemy</text></svg><svg width=\"100%\" x=\"0%\" y=\"3em\"><defs /><svg width=\"100%\" x=\"0\" y=\"0em\"><defs /><text text-anchor=\"middle\" x=\"50%\" y=\"1em\">NN</text></svg></svg><line stroke=\"black\" x1=\"50%\" x2=\"50%\" y1=\"1.2em\" y2=\"3em\" /></svg><line stroke=\"black\" x1=\"50%\" x2=\"68.6341%\" y1=\"1.2em\" y2=\"3em\" /><svg width=\"1.34907%\" x=\"69.3086%\" y=\"3em\"><defs /><svg width=\"100%\" x=\"0\" y=\"0em\"><defs /><text text-anchor=\"middle\" x=\"50%\" y=\"1em\">mother</text></svg><svg width=\"100%\" x=\"0%\" y=\"3em\"><defs /><svg width=\"100%\" x=\"0\" y=\"0em\"><defs /><text text-anchor=\"middle\" x=\"50%\" y=\"1em\">NN</text></svg></svg><line stroke=\"black\" x1=\"50%\" x2=\"50%\" y1=\"1.2em\" y2=\"3em\" /></svg><line stroke=\"black\" x1=\"50%\" x2=\"69.9831%\" y1=\"1.2em\" y2=\"3em\" /><svg width=\"1.0118%\" x=\"70.6577%\" y=\"3em\"><defs /><svg width=\"100%\" x=\"0\" y=\"0em\"><defs /><text text-anchor=\"middle\" x=\"50%\" y=\"1em\">self</text></svg><svg width=\"100%\" x=\"0%\" y=\"3em\"><defs /><svg width=\"100%\" x=\"0\" y=\"0em\"><defs /><text text-anchor=\"middle\" x=\"50%\" y=\"1em\">NN</text></svg></svg><line stroke=\"black\" x1=\"50%\" x2=\"50%\" y1=\"1.2em\" y2=\"3em\" /></svg><line stroke=\"black\" x1=\"50%\" x2=\"71.1636%\" y1=\"1.2em\" y2=\"3em\" /><svg width=\"1.18044%\" x=\"71.6695%\" y=\"3em\"><defs /><svg width=\"100%\" x=\"0\" y=\"0em\"><defs /><text text-anchor=\"middle\" x=\"50%\" y=\"1em\">would</text></svg><svg width=\"100%\" x=\"0%\" y=\"3em\"><defs /><svg width=\"100%\" x=\"0\" y=\"0em\"><defs /><text text-anchor=\"middle\" x=\"50%\" y=\"1em\">MD</text></svg></svg><line stroke=\"black\" x1=\"50%\" x2=\"50%\" y1=\"1.2em\" y2=\"3em\" /></svg><line stroke=\"black\" x1=\"50%\" x2=\"72.2597%\" y1=\"1.2em\" y2=\"3em\" /><svg width=\"1.51771%\" x=\"72.8499%\" y=\"3em\"><defs /><svg width=\"100%\" x=\"0\" y=\"0em\"><defs /><text text-anchor=\"middle\" x=\"50%\" y=\"1em\">benefit</text></svg><svg width=\"100%\" x=\"0%\" y=\"3em\"><defs /><svg width=\"100%\" x=\"0\" y=\"0em\"><defs /><text text-anchor=\"middle\" x=\"50%\" y=\"1em\">VB</text></svg></svg><line stroke=\"black\" x1=\"50%\" x2=\"50%\" y1=\"1.2em\" y2=\"3em\" /></svg><line stroke=\"black\" x1=\"50%\" x2=\"73.6088%\" y1=\"1.2em\" y2=\"3em\" /><svg width=\"1.18044%\" x=\"74.3676%\" y=\"3em\"><defs /><svg width=\"100%\" x=\"0\" y=\"0em\"><defs /><text text-anchor=\"middle\" x=\"50%\" y=\"1em\">women</text></svg><svg width=\"100%\" x=\"0%\" y=\"3em\"><defs /><svg width=\"100%\" x=\"0\" y=\"0em\"><defs /><text text-anchor=\"middle\" x=\"50%\" y=\"1em\">NNS</text></svg></svg><line stroke=\"black\" x1=\"50%\" x2=\"50%\" y1=\"1.2em\" y2=\"3em\" /></svg><line stroke=\"black\" x1=\"50%\" x2=\"74.9578%\" y1=\"1.2em\" y2=\"3em\" /><svg width=\"1.18044%\" x=\"75.5481%\" y=\"3em\"><defs /><svg width=\"100%\" x=\"0\" y=\"0em\"><defs /><text text-anchor=\"middle\" x=\"50%\" y=\"1em\">would</text></svg><svg width=\"100%\" x=\"0%\" y=\"3em\"><defs /><svg width=\"100%\" x=\"0\" y=\"0em\"><defs /><text text-anchor=\"middle\" x=\"50%\" y=\"1em\">MD</text></svg></svg><line stroke=\"black\" x1=\"50%\" x2=\"50%\" y1=\"1.2em\" y2=\"3em\" /></svg><line stroke=\"black\" x1=\"50%\" x2=\"76.1383%\" y1=\"1.2em\" y2=\"3em\" /><svg width=\"1.0118%\" x=\"76.7285%\" y=\"3em\"><defs /><svg width=\"100%\" x=\"0\" y=\"0em\"><defs /><text text-anchor=\"middle\" x=\"50%\" y=\"1em\">like</text></svg><svg width=\"100%\" x=\"0%\" y=\"3em\"><defs /><svg width=\"100%\" x=\"0\" y=\"0em\"><defs /><text text-anchor=\"middle\" x=\"50%\" y=\"1em\">VB</text></svg></svg><line stroke=\"black\" x1=\"50%\" x2=\"50%\" y1=\"1.2em\" y2=\"3em\" /></svg><line stroke=\"black\" x1=\"50%\" x2=\"77.2344%\" y1=\"1.2em\" y2=\"3em\" /><svg width=\"1.34907%\" x=\"77.7403%\" y=\"3em\"><defs /><svg width=\"100%\" x=\"0\" y=\"0em\"><defs /><text text-anchor=\"middle\" x=\"50%\" y=\"1em\">deeper</text></svg><svg width=\"100%\" x=\"0%\" y=\"3em\"><defs /><svg width=\"100%\" x=\"0\" y=\"0em\"><defs /><text text-anchor=\"middle\" x=\"50%\" y=\"1em\">JJR</text></svg></svg><line stroke=\"black\" x1=\"50%\" x2=\"50%\" y1=\"1.2em\" y2=\"3em\" /></svg><line stroke=\"black\" x1=\"50%\" x2=\"78.4148%\" y1=\"1.2em\" y2=\"3em\" /><svg width=\"2.52951%\" x=\"79.0894%\" y=\"3em\"><defs /><svg width=\"100%\" x=\"0\" y=\"0em\"><defs /><text text-anchor=\"middle\" x=\"50%\" y=\"1em\">understanding</text></svg><svg width=\"100%\" x=\"0%\" y=\"3em\"><defs /><svg width=\"100%\" x=\"0\" y=\"0em\"><defs /><text text-anchor=\"middle\" x=\"50%\" y=\"1em\">VBG</text></svg></svg><line stroke=\"black\" x1=\"50%\" x2=\"50%\" y1=\"1.2em\" y2=\"3em\" /></svg><line stroke=\"black\" x1=\"50%\" x2=\"80.3541%\" y1=\"1.2em\" y2=\"3em\" /><svg width=\"2.36088%\" x=\"81.6189%\" y=\"3em\"><defs /><svg width=\"100%\" x=\"0\" y=\"0em\"><defs /><text text-anchor=\"middle\" x=\"50%\" y=\"1em\">relationship</text></svg><svg width=\"100%\" x=\"0%\" y=\"3em\"><defs /><svg width=\"100%\" x=\"0\" y=\"0em\"><defs /><text text-anchor=\"middle\" x=\"50%\" y=\"1em\">NN</text></svg></svg><line stroke=\"black\" x1=\"50%\" x2=\"50%\" y1=\"1.2em\" y2=\"3em\" /></svg><line stroke=\"black\" x1=\"50%\" x2=\"82.7993%\" y1=\"1.2em\" y2=\"3em\" /><svg width=\"1.34907%\" x=\"83.9798%\" y=\"3em\"><defs /><svg width=\"100%\" x=\"0\" y=\"0em\"><defs /><text text-anchor=\"middle\" x=\"50%\" y=\"1em\">mother</text></svg><svg width=\"100%\" x=\"0%\" y=\"3em\"><defs /><svg width=\"100%\" x=\"0\" y=\"0em\"><defs /><text text-anchor=\"middle\" x=\"50%\" y=\"1em\">NN</text></svg></svg><line stroke=\"black\" x1=\"50%\" x2=\"50%\" y1=\"1.2em\" y2=\"3em\" /></svg><line stroke=\"black\" x1=\"50%\" x2=\"84.6543%\" y1=\"1.2em\" y2=\"3em\" /><svg width=\"1.0118%\" x=\"85.3288%\" y=\"3em\"><defs /><svg width=\"100%\" x=\"0\" y=\"0em\"><defs /><text text-anchor=\"middle\" x=\"50%\" y=\"1em\">also</text></svg><svg width=\"100%\" x=\"0%\" y=\"3em\"><defs /><svg width=\"100%\" x=\"0\" y=\"0em\"><defs /><text text-anchor=\"middle\" x=\"50%\" y=\"1em\">RB</text></svg></svg><line stroke=\"black\" x1=\"50%\" x2=\"50%\" y1=\"1.2em\" y2=\"3em\" /></svg><line stroke=\"black\" x1=\"50%\" x2=\"85.8347%\" y1=\"1.2em\" y2=\"3em\" /><svg width=\"1.85497%\" x=\"86.3406%\" y=\"3em\"><defs /><svg width=\"100%\" x=\"0\" y=\"0em\"><defs /><text text-anchor=\"middle\" x=\"50%\" y=\"1em\">daughters</text></svg><svg width=\"100%\" x=\"0%\" y=\"3em\"><defs /><svg width=\"100%\" x=\"0\" y=\"0em\"><defs /><text text-anchor=\"middle\" x=\"50%\" y=\"1em\">VBZ</text></svg></svg><line stroke=\"black\" x1=\"50%\" x2=\"50%\" y1=\"1.2em\" y2=\"3em\" /></svg><line stroke=\"black\" x1=\"50%\" x2=\"87.2681%\" y1=\"1.2em\" y2=\"3em\" /><svg width=\"0.84317%\" x=\"88.1956%\" y=\"3em\"><defs /><svg width=\"100%\" x=\"0\" y=\"0em\"><defs /><text text-anchor=\"middle\" x=\"50%\" y=\"1em\">men</text></svg><svg width=\"100%\" x=\"0%\" y=\"3em\"><defs /><svg width=\"100%\" x=\"0\" y=\"0em\"><defs /><text text-anchor=\"middle\" x=\"50%\" y=\"1em\">NNS</text></svg></svg><line stroke=\"black\" x1=\"50%\" x2=\"50%\" y1=\"1.2em\" y2=\"3em\" /></svg><line stroke=\"black\" x1=\"50%\" x2=\"88.6172%\" y1=\"1.2em\" y2=\"3em\" /><svg width=\"1.18044%\" x=\"89.0388%\" y=\"3em\"><defs /><svg width=\"100%\" x=\"0\" y=\"0em\"><defs /><text text-anchor=\"middle\" x=\"50%\" y=\"1em\">might</text></svg><svg width=\"100%\" x=\"0%\" y=\"3em\"><defs /><svg width=\"100%\" x=\"0\" y=\"0em\"><defs /><text text-anchor=\"middle\" x=\"50%\" y=\"1em\">MD</text></svg></svg><line stroke=\"black\" x1=\"50%\" x2=\"50%\" y1=\"1.2em\" y2=\"3em\" /></svg><line stroke=\"black\" x1=\"50%\" x2=\"89.629%\" y1=\"1.2em\" y2=\"3em\" /><svg width=\"1.0118%\" x=\"90.2192%\" y=\"3em\"><defs /><svg width=\"100%\" x=\"0\" y=\"0em\"><defs /><text text-anchor=\"middle\" x=\"50%\" y=\"1em\">like</text></svg><svg width=\"100%\" x=\"0%\" y=\"3em\"><defs /><svg width=\"100%\" x=\"0\" y=\"0em\"><defs /><text text-anchor=\"middle\" x=\"50%\" y=\"1em\">VB</text></svg></svg><line stroke=\"black\" x1=\"50%\" x2=\"50%\" y1=\"1.2em\" y2=\"3em\" /></svg><line stroke=\"black\" x1=\"50%\" x2=\"90.7251%\" y1=\"1.2em\" y2=\"3em\" /><svg width=\"1.0118%\" x=\"91.231%\" y=\"3em\"><defs /><svg width=\"100%\" x=\"0\" y=\"0em\"><defs /><text text-anchor=\"middle\" x=\"50%\" y=\"1em\">read</text></svg><svg width=\"100%\" x=\"0%\" y=\"3em\"><defs /><svg width=\"100%\" x=\"0\" y=\"0em\"><defs /><text text-anchor=\"middle\" x=\"50%\" y=\"1em\">JJ</text></svg></svg><line stroke=\"black\" x1=\"50%\" x2=\"50%\" y1=\"1.2em\" y2=\"3em\" /></svg><line stroke=\"black\" x1=\"50%\" x2=\"91.7369%\" y1=\"1.2em\" y2=\"3em\" /><svg width=\"2.02361%\" x=\"92.2428%\" y=\"3em\"><defs /><svg width=\"100%\" x=\"0\" y=\"0em\"><defs /><text text-anchor=\"middle\" x=\"50%\" y=\"1em\">understand</text></svg><svg width=\"100%\" x=\"0%\" y=\"3em\"><defs /><svg width=\"100%\" x=\"0\" y=\"0em\"><defs /><text text-anchor=\"middle\" x=\"50%\" y=\"1em\">NN</text></svg></svg><line stroke=\"black\" x1=\"50%\" x2=\"50%\" y1=\"1.2em\" y2=\"3em\" /></svg><line stroke=\"black\" x1=\"50%\" x2=\"93.2546%\" y1=\"1.2em\" y2=\"3em\" /><svg width=\"1.51771%\" x=\"94.2664%\" y=\"3em\"><defs /><svg width=\"100%\" x=\"0\" y=\"0em\"><defs /><text text-anchor=\"middle\" x=\"50%\" y=\"1em\">complex</text></svg><svg width=\"100%\" x=\"0%\" y=\"3em\"><defs /><svg width=\"100%\" x=\"0\" y=\"0em\"><defs /><text text-anchor=\"middle\" x=\"50%\" y=\"1em\">JJ</text></svg></svg><line stroke=\"black\" x1=\"50%\" x2=\"50%\" y1=\"1.2em\" y2=\"3em\" /></svg><line stroke=\"black\" x1=\"50%\" x2=\"95.0253%\" y1=\"1.2em\" y2=\"3em\" /><svg width=\"1.68634%\" x=\"95.7841%\" y=\"3em\"><defs /><svg width=\"100%\" x=\"0\" y=\"0em\"><defs /><text text-anchor=\"middle\" x=\"50%\" y=\"1em\">dynamics</text></svg><svg width=\"100%\" x=\"0%\" y=\"3em\"><defs /><svg width=\"100%\" x=\"0\" y=\"0em\"><defs /><text text-anchor=\"middle\" x=\"50%\" y=\"1em\">NNS</text></svg></svg><line stroke=\"black\" x1=\"50%\" x2=\"50%\" y1=\"1.2em\" y2=\"3em\" /></svg><line stroke=\"black\" x1=\"50%\" x2=\"96.6273%\" y1=\"1.2em\" y2=\"3em\" /><svg width=\"2.52951%\" x=\"97.4705%\" y=\"3em\"><defs /><svg width=\"100%\" x=\"0\" y=\"0em\"><defs /><text text-anchor=\"middle\" x=\"50%\" y=\"1em\">relationships</text></svg><svg width=\"100%\" x=\"0%\" y=\"3em\"><defs /><svg width=\"100%\" x=\"0\" y=\"0em\"><defs /><text text-anchor=\"middle\" x=\"50%\" y=\"1em\">NNS</text></svg></svg><line stroke=\"black\" x1=\"50%\" x2=\"50%\" y1=\"1.2em\" y2=\"3em\" /></svg><line stroke=\"black\" x1=\"50%\" x2=\"98.7352%\" y1=\"1.2em\" y2=\"3em\" /></svg>"
      ],
      "text/plain": [
       "Tree('S', [('mother', 'NN'), ('opinion', 'NN'), ('took', 'VBD'), ('get', 'VB'), ('book', 'NN'), ('several', 'JJ'), ('occasions', 'NNS'), ('tempted', 'VBD'), ('give', 'JJ'), ('itim', 'NN'), ('glad', 'JJ'), ('stuck', 'VBD'), ('thoughthose', 'JJ'), ('difficult', 'JJ'), ('motherdaughter', 'NN'), ('relationship', 'NN'), ('probably', 'RB'), ('benefit', 'VB'), ('reading', 'VBG'), ('book', 'NN'), ('know', 'VB'), ('even', 'RB'), ('though', 'IN'), ('author', 'NN'), ('isnt', 'NN'), ('mother', 'NN'), ('bother', 'RB'), ('little', 'JJ'), ('feel', 'JJ'), ('theories', 'NNS'), ('make', 'VBP'), ('sensethe', 'JJ'), ('version', 'NN'), ('book', 'NN'), ('quite', 'RB'), ('old', 'JJ'), ('published', 'VBN'), ('picked', 'VBD'), ('used', 'VBN'), ('bookstore', 'RB'), ('im', 'JJ'), ('sure', 'JJ'), ('type', 'NN'), ('editing', 'VBG'), ('done', 'VBN'), ('newer', 'JJR'), ('versions', 'NNS'), ('im', 'VBP'), ('sure', 'JJ'), ('main', 'JJ'), ('message', 'NN'), ('samemy', 'NN'), ('mother', 'NN'), ('self', 'NN'), ('would', 'MD'), ('benefit', 'VB'), ('women', 'NNS'), ('would', 'MD'), ('like', 'VB'), ('deeper', 'JJR'), ('understanding', 'VBG'), ('relationship', 'NN'), ('mother', 'NN'), ('also', 'RB'), ('daughters', 'VBZ'), ('men', 'NNS'), ('might', 'MD'), ('like', 'VB'), ('read', 'JJ'), ('understand', 'NN'), ('complex', 'JJ'), ('dynamics', 'NNS'), ('relationships', 'NNS')])"
      ]
     },
     "execution_count": 17,
     "metadata": {},
     "output_type": "execute_result"
    }
   ],
   "source": [
    "df.text_entities[2] # show entities of text number 3 visualized"
   ]
  },
  {
   "cell_type": "markdown",
   "metadata": {},
   "source": [
    "We can see that our function did a great job in Text Processing. It was designed with the help of ChatGPT."
   ]
  },
  {
   "cell_type": "markdown",
   "metadata": {},
   "source": [
    "# Topic Modelling\n",
    "In topic modelling, the goal is to identify the main topics or themes discussed in the text data and represent each document as a mixture of these topics. This is done by representing each document as a vector of weights, where each weight represents the relevance of a specific topic to the document."
   ]
  },
  {
   "cell_type": "code",
   "execution_count": 18,
   "metadata": {
    "collapsed": true,
    "execution": {
     "iopub.execute_input": "2022-12-28T23:39:53.366386Z",
     "iopub.status.busy": "2022-12-28T23:39:53.365860Z",
     "iopub.status.idle": "2022-12-28T23:40:38.791399Z",
     "shell.execute_reply": "2022-12-28T23:40:38.790160Z",
     "shell.execute_reply.started": "2022-12-28T23:39:53.366334Z"
    }
   },
   "outputs": [
    {
     "name": "stdout",
     "output_type": "stream",
     "text": [
      "Topic 0: ['movie', 'dvd', 'film', 'watch', 'movies', 'video', 'great', 'watching', 'seen', 'see']\n",
      "Topic 1: ['one', 'product', 'great', 'would', 'use', 'good', 'get', 'bought', 'time', 'buy']\n",
      "Topic 2: ['game', 'like', 'fun', 'dont', 'good', 'one', 'much', 'play', 'would', 'games']\n",
      "Topic 3: ['great', 'love', 'u', 'like', 'music', 'really', 'good', 'dance', 'na', 'best']\n",
      "Topic 4: ['coffee', 'knife', 'workout', 'hose', 'cup', 'kitchen', 'grill', 'steel', 'en', 'vs']\n",
      "Topic 5: ['book', 'read', 'great', 'good', 'one', 'books', 'information', 'many', 'well', 'reading']\n",
      "Topic 6: ['book', 'read', 'one', 'story', 'like', 'good', 'would', 'really', 'time', 'characters']\n",
      "Topic 7: ['cd', 'album', 'like', 'music', 'one', 'good', 'songs', 'great', 'best', 'song']\n",
      "Topic 8: ['pack', 'clock', 'smells', 'sticks', 'manages', 'spare', 'blah', 'flaw', 'apple', 'golf']\n",
      "Topic 9: ['people', 'book', 'us', 'life', 'world', 'man', 'women', 'young', 'love', 'one']\n"
     ]
    }
   ],
   "source": [
    "from gensim.corpora import Dictionary\n",
    "from gensim.models import LdaModel\n",
    "\n",
    "def topic_modeling(documents, dictionary, num_topics=10, num_words=10):\n",
    "    # Create a corpus from the documents\n",
    "    corpus = [dictionary.doc2bow(doc) for doc in documents]\n",
    "    \n",
    "    # Train the LDA model on the corpus\n",
    "    lda = LdaModel(corpus=corpus, num_topics=num_topics, id2word=dictionary)\n",
    "    \n",
    "    # Print the top words for each topic\n",
    "    for i, topic in lda.show_topics(num_words=num_words, formatted=False):\n",
    "        print(f'Topic {i}: {[word for word, _ in topic]}')\n",
    "    \n",
    "    return lda\n",
    "\n",
    "# Extract the list of documents from the DataFrame\n",
    "documents = df['text_tokens'].tolist()\n",
    "\n",
    "# Create a dictionary of the documents\n",
    "dictionary = Dictionary(documents)\n",
    "\n",
    "# Apply the topic modeling function to the documents\n",
    "lda = topic_modeling(documents, dictionary=dictionary)\n",
    "\n",
    "# Assign the topic assignments to a new column in the DataFrame\n",
    "df['topics'] = [lda[dictionary.doc2bow(doc)] for doc in documents]"
   ]
  },
  {
   "cell_type": "code",
   "execution_count": 19,
   "metadata": {
    "execution": {
     "iopub.execute_input": "2022-12-28T23:40:38.793203Z",
     "iopub.status.busy": "2022-12-28T23:40:38.792831Z",
     "iopub.status.idle": "2022-12-28T23:40:38.802167Z",
     "shell.execute_reply": "2022-12-28T23:40:38.800924Z",
     "shell.execute_reply.started": "2022-12-28T23:40:38.793168Z"
    }
   },
   "outputs": [
    {
     "data": {
      "text/plain": [
       "[(1, 0.6691907),\n",
       " (2, 0.07564219),\n",
       " (3, 0.0199464),\n",
       " (5, 0.083123475),\n",
       " (7, 0.14567077)]"
      ]
     },
     "execution_count": 19,
     "metadata": {},
     "output_type": "execute_result"
    }
   ],
   "source": [
    "df.topics[3]"
   ]
  },
  {
   "cell_type": "markdown",
   "metadata": {},
   "source": [
    "This indicates that the text is assigned to topic 1 with a probability of 67%%, topic 7 with 15% and so on. This means that the document is more likely to belong to topic 1 according to the topic modeling algorithm."
   ]
  },
  {
   "cell_type": "markdown",
   "metadata": {},
   "source": [
    "## Visualize Topics\n",
    "Here is an example of how you can visualize a single topic with a Wordcloud. Change the Id in the last column to make a Wordcloud of other topics."
   ]
  },
  {
   "cell_type": "code",
   "execution_count": 20,
   "metadata": {
    "execution": {
     "iopub.execute_input": "2022-12-28T23:40:38.803879Z",
     "iopub.status.busy": "2022-12-28T23:40:38.803527Z",
     "iopub.status.idle": "2022-12-28T23:41:45.560737Z",
     "shell.execute_reply": "2022-12-28T23:41:45.559486Z",
     "shell.execute_reply.started": "2022-12-28T23:40:38.803848Z"
    }
   },
   "outputs": [
    {
     "data": {
      "image/png": "[encoded data removed]",
      "text/plain": [
       "<Figure size 432x288 with 1 Axes>"
      ]
     },
     "metadata": {
      "needs_background": "light"
     },
     "output_type": "display_data"
    }
   ],
   "source": [
    "from wordcloud import WordCloud\n",
    "\n",
    "def visualize_topic(lda, dictionary, topic_id):\n",
    "    # Create a list of the top words for the topic\n",
    "    top_words = [word for word, _ in lda.show_topic(topic_id, topn=10)]\n",
    "    \n",
    "    # Create a word cloud for the topic\n",
    "    wordcloud = WordCloud(width=600, height=400).generate(' '.join(top_words))\n",
    "    plt.imshow(wordcloud, interpolation='bilinear')\n",
    "    plt.axis(\"off\")\n",
    "    plt.title(f'Topic {topic_id}')\n",
    "    plt.show()\n",
    "\n",
    "# Extract the list of documents from the DataFrame\n",
    "documents = df['text_tokens'].tolist()\n",
    "\n",
    "# Create a dictionary of the documents\n",
    "dictionary = Dictionary(documents)\n",
    "\n",
    "# Train the LDA model on the corpus\n",
    "lda = LdaModel([dictionary.doc2bow(doc) for doc in documents], id2word=dictionary)\n",
    "\n",
    "# Visualize the topic with ID 3\n",
    "visualize_topic(lda, dictionary, 3)"
   ]
  },
  {
   "cell_type": "markdown",
   "metadata": {},
   "source": [
    "# Modelling - Text Classification\n",
    "After assignin our X (features) and y (target), we use a Vectorizer to convert our text documents into a matrix, then we split our data to train and test sets and with various Classifiers we try to train our Model.<br>\n",
    "The **CountVectorizer** is a tool from the scikit-learn library that can be used to convert a collection of text documents into a matrix of token counts. "
   ]
  },
  {
   "cell_type": "code",
   "execution_count": 21,
   "metadata": {
    "execution": {
     "iopub.execute_input": "2022-12-28T23:41:45.562660Z",
     "iopub.status.busy": "2022-12-28T23:41:45.562272Z",
     "iopub.status.idle": "2022-12-28T23:41:45.573336Z",
     "shell.execute_reply": "2022-12-28T23:41:45.572145Z",
     "shell.execute_reply.started": "2022-12-28T23:41:45.562625Z"
    }
   },
   "outputs": [
    {
     "data": {
      "text/plain": [
       "array([0, 1])"
      ]
     },
     "execution_count": 21,
     "metadata": {},
     "output_type": "execute_result"
    }
   ],
   "source": [
    "# replacing 1's to 0 and 2's to 1\n",
    "df.sentiment.replace({1:0,2:1},inplace=True)\n",
    "df.sentiment.unique()"
   ]
  },
  {
   "cell_type": "code",
   "execution_count": 22,
   "metadata": {
    "execution": {
     "iopub.execute_input": "2022-12-28T23:41:45.575029Z",
     "iopub.status.busy": "2022-12-28T23:41:45.574604Z",
     "iopub.status.idle": "2022-12-28T23:41:48.106450Z",
     "shell.execute_reply": "2022-12-28T23:41:48.105275Z",
     "shell.execute_reply.started": "2022-12-28T23:41:45.574976Z"
    }
   },
   "outputs": [],
   "source": [
    "# assign x and y - features are texts and target is label\n",
    "x,y =df[\"text_processed\"], df[\"sentiment\"]\n",
    "# Vectorize text data, removing stop words\n",
    "vect=CountVectorizer(stop_words=\"english\")\n",
    "x=vect.fit_transform(x)\n",
    "# split to train and test data\n",
    "x_train,x_test,y_train,y_test=train_test_split(x,y,random_state=42,test_size=.15)"
   ]
  },
  {
   "cell_type": "code",
   "execution_count": 23,
   "metadata": {
    "execution": {
     "iopub.execute_input": "2022-12-28T23:41:48.108113Z",
     "iopub.status.busy": "2022-12-28T23:41:48.107769Z",
     "iopub.status.idle": "2022-12-28T23:46:46.113605Z",
     "shell.execute_reply": "2022-12-28T23:46:46.112535Z",
     "shell.execute_reply.started": "2022-12-28T23:41:48.108082Z"
    }
   },
   "outputs": [],
   "source": [
    "#importing Classification libraries\n",
    "from sklearn.naive_bayes import MultinomialNB\n",
    "from sklearn.tree import DecisionTreeClassifier\n",
    "from sklearn.neighbors import KNeighborsClassifier\n",
    "from sklearn.ensemble import RandomForestClassifier\n",
    "from xgboost import XGBClassifier\n",
    "\n",
    "# create an instance of each classification algorithm\n",
    "mb=MultinomialNB()\n",
    "D=DecisionTreeClassifier()\n",
    "KN=KNeighborsClassifier() \n",
    "R=RandomForestClassifier()\n",
    "XGB=XGBClassifier()\n",
    "\n",
    "classifiers = [mb, D, KN, R, XGB]\n",
    "\n",
    "# list of classifier names\n",
    "classifier_names = ['MultinomialNB', 'DecisionTreeClassifier', 'KNeighborsClassifier', 'RandomForestClassifier', 'XGBClassifier']\n",
    "\n",
    "# create an empty dataframe\n",
    "result = pd.DataFrame(columns=['classifier', 'accuracy'])\n",
    "\n",
    "# loop through classifiers and get predictions\n",
    "for i, clf in enumerate(classifiers):\n",
    "    pred = clf.fit(x_train, y_train).predict(x_test)\n",
    "    score = accuracy_score(pred, y_test)\n",
    "    result.loc[i] = [classifier_names[i], score]"
   ]
  },
  {
   "cell_type": "code",
   "execution_count": 24,
   "metadata": {
    "execution": {
     "iopub.execute_input": "2022-12-28T23:46:46.116248Z",
     "iopub.status.busy": "2022-12-28T23:46:46.115530Z",
     "iopub.status.idle": "2022-12-28T23:46:46.132083Z",
     "shell.execute_reply": "2022-12-28T23:46:46.130775Z",
     "shell.execute_reply.started": "2022-12-28T23:46:46.116206Z"
    }
   },
   "outputs": [
    {
     "data": {
      "text/html": [
       "<div>\n",
       "<style scoped>\n",
       "    .dataframe tbody tr th:only-of-type {\n",
       "        vertical-align: middle;\n",
       "    }\n",
       "\n",
       "    .dataframe tbody tr th {\n",
       "        vertical-align: top;\n",
       "    }\n",
       "\n",
       "    .dataframe thead th {\n",
       "        text-align: right;\n",
       "    }\n",
       "</style>\n",
       "<table border=\"1\" class=\"dataframe\">\n",
       "  <thead>\n",
       "    <tr style=\"text-align: right;\">\n",
       "      <th></th>\n",
       "      <th>classifier</th>\n",
       "      <th>accuracy</th>\n",
       "    </tr>\n",
       "  </thead>\n",
       "  <tbody>\n",
       "    <tr>\n",
       "      <th>3</th>\n",
       "      <td>RandomForestClassifier</td>\n",
       "      <td>0.854333</td>\n",
       "    </tr>\n",
       "    <tr>\n",
       "      <th>4</th>\n",
       "      <td>XGBClassifier</td>\n",
       "      <td>0.850667</td>\n",
       "    </tr>\n",
       "    <tr>\n",
       "      <th>0</th>\n",
       "      <td>MultinomialNB</td>\n",
       "      <td>0.836667</td>\n",
       "    </tr>\n",
       "    <tr>\n",
       "      <th>1</th>\n",
       "      <td>DecisionTreeClassifier</td>\n",
       "      <td>0.757500</td>\n",
       "    </tr>\n",
       "    <tr>\n",
       "      <th>2</th>\n",
       "      <td>KNeighborsClassifier</td>\n",
       "      <td>0.682333</td>\n",
       "    </tr>\n",
       "  </tbody>\n",
       "</table>\n",
       "</div>"
      ],
      "text/plain": [
       "               classifier  accuracy\n",
       "3  RandomForestClassifier  0.854333\n",
       "4           XGBClassifier  0.850667\n",
       "0           MultinomialNB  0.836667\n",
       "1  DecisionTreeClassifier  0.757500\n",
       "2    KNeighborsClassifier  0.682333"
      ]
     },
     "execution_count": 24,
     "metadata": {},
     "output_type": "execute_result"
    }
   ],
   "source": [
    "# sort the dataframe by the accuracy column in descending order\n",
    "result.sort_values(by='accuracy', ascending=False, inplace=True)\n",
    "result # show results"
   ]
  },
  {
   "cell_type": "markdown",
   "metadata": {},
   "source": [
    "We can see that the best result shows the **RandomForestClassifier with an Accuracy of 85,43%,** followed by the XGBClassifier with similar accuracy."
   ]
  },
  {
   "cell_type": "markdown",
   "metadata": {},
   "source": [
    "# Wordclouds\n",
    "**Wordclouds (WC)** allow us the visual representations of the frequency and relative importance of words in a given body of text."
   ]
  },
  {
   "cell_type": "code",
   "execution_count": 25,
   "metadata": {
    "execution": {
     "iopub.execute_input": "2022-12-28T23:46:46.134422Z",
     "iopub.status.busy": "2022-12-28T23:46:46.133714Z",
     "iopub.status.idle": "2022-12-28T23:46:46.143818Z",
     "shell.execute_reply": "2022-12-28T23:46:46.142726Z",
     "shell.execute_reply.started": "2022-12-28T23:46:46.134374Z"
    }
   },
   "outputs": [],
   "source": [
    "# Function to create a Wordcloud\n",
    "def wc(data,bgcolor):\n",
    "    plt.figure(figsize=(20,20))\n",
    "    mask=np.array(Image.open(\"/kaggle/input/pics12/amazon.png\"))\n",
    "    wc=WordCloud(background_color=bgcolor,stopwords=STOPWORDS,mask=mask) \n",
    "    wc.generate(' '.join(data)) \n",
    "    plt.imshow(wc) \n",
    "    plt.axis(\"off\")"
   ]
  },
  {
   "cell_type": "code",
   "execution_count": 31,
   "metadata": {
    "execution": {
     "iopub.execute_input": "2022-12-28T23:49:08.982828Z",
     "iopub.status.busy": "2022-12-28T23:49:08.982336Z",
     "iopub.status.idle": "2022-12-28T23:49:22.203841Z",
     "shell.execute_reply": "2022-12-28T23:49:22.202866Z",
     "shell.execute_reply.started": "2022-12-28T23:49:08.982787Z"
    }
   },
   "outputs": [
    {
     "data": {
      "image/png": "[encoded data removed]",
      "text/plain": [
       "<Figure size 1440x1440 with 1 Axes>"
      ]
     },
     "metadata": {
      "needs_background": "light"
     },
     "output_type": "display_data"
    }
   ],
   "source": [
    "wc(df.text_processed,'white') # WC for processed text"
   ]
  },
  {
   "cell_type": "markdown",
   "metadata": {},
   "source": [
    "# Sentiment Analysis"
   ]
  },
  {
   "cell_type": "markdown",
   "metadata": {},
   "source": [
    "## Modelling\n",
    "After assignin our X (features) and y (target), we use a Vectorizer to convert our text documents into a matrix, then we split our data to train and test sets and with various Classifiers we try to train our Model."
   ]
  },
  {
   "cell_type": "code",
   "execution_count": 48,
   "metadata": {
    "execution": {
     "iopub.execute_input": "2022-12-29T00:03:04.424604Z",
     "iopub.status.busy": "2022-12-29T00:03:04.424104Z",
     "iopub.status.idle": "2022-12-29T00:03:07.022644Z",
     "shell.execute_reply": "2022-12-29T00:03:07.021223Z",
     "shell.execute_reply.started": "2022-12-29T00:03:04.424568Z"
    }
   },
   "outputs": [],
   "source": [
    "# assign x and y\n",
    "x, y=df.text_processed, df.sentiment\n",
    "# Vectorize X\n",
    "vect=CountVectorizer(stop_words=\"english\")\n",
    "x=vect.fit_transform(x) \n",
    "# split into train and test sets\n",
    "x_train,x_test,y_train,y_test=train_test_split(x,y,random_state=42,test_size=.15)"
   ]
  },
  {
   "cell_type": "code",
   "execution_count": 49,
   "metadata": {
    "execution": {
     "iopub.execute_input": "2022-12-29T00:03:14.083905Z",
     "iopub.status.busy": "2022-12-29T00:03:14.083451Z",
     "iopub.status.idle": "2022-12-29T00:08:04.294850Z",
     "shell.execute_reply": "2022-12-29T00:08:04.293751Z",
     "shell.execute_reply.started": "2022-12-29T00:03:14.083871Z"
    }
   },
   "outputs": [],
   "source": [
    "#importing Classification libraries\n",
    "from sklearn.naive_bayes import MultinomialNB\n",
    "from sklearn.tree import DecisionTreeClassifier\n",
    "from sklearn.neighbors import KNeighborsClassifier\n",
    "from sklearn.ensemble import RandomForestClassifier\n",
    "from xgboost import XGBClassifier\n",
    "\n",
    "# create an instance of each classification algorithm\n",
    "mb=MultinomialNB()\n",
    "D=DecisionTreeClassifier()\n",
    "KN=KNeighborsClassifier() \n",
    "R=RandomForestClassifier()\n",
    "XGB=XGBClassifier()\n",
    "\n",
    "classifiers = [mb, D, KN, R, XGB]\n",
    "\n",
    "# list of classifier names\n",
    "classifier_names = ['MultinomialNB', 'DecisionTreeClassifier', 'KNeighborsClassifier', 'RandomForestClassifier', 'XGBClassifier']\n",
    "\n",
    "# create an empty dataframe\n",
    "res_sent = pd.DataFrame(columns=['classifier', 'accuracy'])\n",
    "\n",
    "# loop through classifiers and get predictions\n",
    "for i, clf in enumerate(classifiers):\n",
    "    pred = clf.fit(x_train, y_train).predict(x_test)\n",
    "    score = accuracy_score(pred, y_test)\n",
    "    res_sent.loc[i] = [classifier_names[i], score]"
   ]
  },
  {
   "cell_type": "code",
   "execution_count": 50,
   "metadata": {
    "execution": {
     "iopub.execute_input": "2022-12-29T00:08:04.297696Z",
     "iopub.status.busy": "2022-12-29T00:08:04.296966Z",
     "iopub.status.idle": "2022-12-29T00:08:04.310624Z",
     "shell.execute_reply": "2022-12-29T00:08:04.309565Z",
     "shell.execute_reply.started": "2022-12-29T00:08:04.297653Z"
    }
   },
   "outputs": [
    {
     "data": {
      "text/html": [
       "<div>\n",
       "<style scoped>\n",
       "    .dataframe tbody tr th:only-of-type {\n",
       "        vertical-align: middle;\n",
       "    }\n",
       "\n",
       "    .dataframe tbody tr th {\n",
       "        vertical-align: top;\n",
       "    }\n",
       "\n",
       "    .dataframe thead th {\n",
       "        text-align: right;\n",
       "    }\n",
       "</style>\n",
       "<table border=\"1\" class=\"dataframe\">\n",
       "  <thead>\n",
       "    <tr style=\"text-align: right;\">\n",
       "      <th></th>\n",
       "      <th>classifier</th>\n",
       "      <th>accuracy</th>\n",
       "    </tr>\n",
       "  </thead>\n",
       "  <tbody>\n",
       "    <tr>\n",
       "      <th>3</th>\n",
       "      <td>RandomForestClassifier</td>\n",
       "      <td>0.862000</td>\n",
       "    </tr>\n",
       "    <tr>\n",
       "      <th>4</th>\n",
       "      <td>XGBClassifier</td>\n",
       "      <td>0.850667</td>\n",
       "    </tr>\n",
       "    <tr>\n",
       "      <th>0</th>\n",
       "      <td>MultinomialNB</td>\n",
       "      <td>0.836667</td>\n",
       "    </tr>\n",
       "    <tr>\n",
       "      <th>1</th>\n",
       "      <td>DecisionTreeClassifier</td>\n",
       "      <td>0.758833</td>\n",
       "    </tr>\n",
       "    <tr>\n",
       "      <th>2</th>\n",
       "      <td>KNeighborsClassifier</td>\n",
       "      <td>0.682333</td>\n",
       "    </tr>\n",
       "  </tbody>\n",
       "</table>\n",
       "</div>"
      ],
      "text/plain": [
       "               classifier  accuracy\n",
       "3  RandomForestClassifier  0.862000\n",
       "4           XGBClassifier  0.850667\n",
       "0           MultinomialNB  0.836667\n",
       "1  DecisionTreeClassifier  0.758833\n",
       "2    KNeighborsClassifier  0.682333"
      ]
     },
     "execution_count": 50,
     "metadata": {},
     "output_type": "execute_result"
    }
   ],
   "source": [
    "# sort the dataframe by the accuracy column in descending order\n",
    "res_sent.sort_values(by='accuracy', ascending=False, inplace=True)\n",
    "res_sent # show results"
   ]
  },
  {
   "cell_type": "markdown",
   "metadata": {},
   "source": [
    "Best result is showing the **RandomForestClassifier with an Accuracy of 86,2%**."
   ]
  },
  {
   "cell_type": "markdown",
   "metadata": {},
   "source": [
    "## Sentiment Analysis - Using TextBlob\n",
    "Sentiment analysis with TextBlob: TextBlob can perform sentiment analysis on a text, which involves determining the overall sentiment expressed in the text (e.g., positive, negative, neutral)."
   ]
  },
  {
   "cell_type": "code",
   "execution_count": 36,
   "metadata": {
    "execution": {
     "iopub.execute_input": "2022-12-28T23:52:01.071665Z",
     "iopub.status.busy": "2022-12-28T23:52:01.071150Z",
     "iopub.status.idle": "2022-12-28T23:52:01.126843Z",
     "shell.execute_reply": "2022-12-28T23:52:01.125659Z",
     "shell.execute_reply.started": "2022-12-28T23:52:01.071626Z"
    }
   },
   "outputs": [],
   "source": [
    "# import TextBlob\n",
    "from textblob import TextBlob"
   ]
  },
  {
   "cell_type": "code",
   "execution_count": 32,
   "metadata": {
    "execution": {
     "iopub.execute_input": "2022-12-28T23:50:32.368180Z",
     "iopub.status.busy": "2022-12-28T23:50:32.367715Z",
     "iopub.status.idle": "2022-12-28T23:50:32.374051Z",
     "shell.execute_reply": "2022-12-28T23:50:32.372880Z",
     "shell.execute_reply.started": "2022-12-28T23:50:32.368142Z"
    }
   },
   "outputs": [],
   "source": [
    "# function for sentiment analysis\n",
    "def detect_polarity(text):\n",
    "    return TextBlob(text).sentiment.polarity"
   ]
  },
  {
   "cell_type": "code",
   "execution_count": 33,
   "metadata": {
    "execution": {
     "iopub.execute_input": "2022-12-28T23:50:49.243084Z",
     "iopub.status.busy": "2022-12-28T23:50:49.242629Z",
     "iopub.status.idle": "2022-12-28T23:50:49.346743Z",
     "shell.execute_reply": "2022-12-28T23:50:49.345487Z",
     "shell.execute_reply.started": "2022-12-28T23:50:49.243047Z"
    }
   },
   "outputs": [
    {
     "data": {
      "text/html": [
       "<div>\n",
       "<style scoped>\n",
       "    .dataframe tbody tr th:only-of-type {\n",
       "        vertical-align: middle;\n",
       "    }\n",
       "\n",
       "    .dataframe tbody tr th {\n",
       "        vertical-align: top;\n",
       "    }\n",
       "\n",
       "    .dataframe thead th {\n",
       "        text-align: right;\n",
       "    }\n",
       "</style>\n",
       "<table border=\"1\" class=\"dataframe\">\n",
       "  <thead>\n",
       "    <tr style=\"text-align: right;\">\n",
       "      <th></th>\n",
       "      <th>text_processed</th>\n",
       "    </tr>\n",
       "  </thead>\n",
       "  <tbody>\n",
       "    <tr>\n",
       "      <th>0</th>\n",
       "      <td>zzzzzzzzzzz basically the movie is just people...</td>\n",
       "    </tr>\n",
       "    <tr>\n",
       "      <th>1</th>\n",
       "      <td>rich engrossing this is a great work of histor...</td>\n",
       "    </tr>\n",
       "    <tr>\n",
       "      <th>2</th>\n",
       "      <td>my mother my opinion it took me a while to get...</td>\n",
       "    </tr>\n",
       "    <tr>\n",
       "      <th>3</th>\n",
       "      <td>a bit disappointed this was my first digital c...</td>\n",
       "    </tr>\n",
       "    <tr>\n",
       "      <th>4</th>\n",
       "      <td>review of awakening curry buckle darwin bownes...</td>\n",
       "    </tr>\n",
       "  </tbody>\n",
       "</table>\n",
       "</div>"
      ],
      "text/plain": [
       "                                      text_processed\n",
       "0  zzzzzzzzzzz basically the movie is just people...\n",
       "1  rich engrossing this is a great work of histor...\n",
       "2  my mother my opinion it took me a while to get...\n",
       "3  a bit disappointed this was my first digital c...\n",
       "4  review of awakening curry buckle darwin bownes..."
      ]
     },
     "execution_count": 33,
     "metadata": {},
     "output_type": "execute_result"
    }
   ],
   "source": [
    "# define new dataframe\n",
    "df_sent=df[[\"text_processed\"]] \n",
    "df_sent.head()"
   ]
  },
  {
   "cell_type": "code",
   "execution_count": 37,
   "metadata": {
    "execution": {
     "iopub.execute_input": "2022-12-28T23:52:03.252219Z",
     "iopub.status.busy": "2022-12-28T23:52:03.251786Z",
     "iopub.status.idle": "2022-12-28T23:52:26.856495Z",
     "shell.execute_reply": "2022-12-28T23:52:26.855216Z",
     "shell.execute_reply.started": "2022-12-28T23:52:03.252185Z"
    }
   },
   "outputs": [
    {
     "data": {
      "text/html": [
       "<div>\n",
       "<style scoped>\n",
       "    .dataframe tbody tr th:only-of-type {\n",
       "        vertical-align: middle;\n",
       "    }\n",
       "\n",
       "    .dataframe tbody tr th {\n",
       "        vertical-align: top;\n",
       "    }\n",
       "\n",
       "    .dataframe thead th {\n",
       "        text-align: right;\n",
       "    }\n",
       "</style>\n",
       "<table border=\"1\" class=\"dataframe\">\n",
       "  <thead>\n",
       "    <tr style=\"text-align: right;\">\n",
       "      <th></th>\n",
       "      <th>text_processed</th>\n",
       "      <th>polarity</th>\n",
       "    </tr>\n",
       "  </thead>\n",
       "  <tbody>\n",
       "    <tr>\n",
       "      <th>0</th>\n",
       "      <td>zzzzzzzzzzz basically the movie is just people...</td>\n",
       "      <td>-0.277564</td>\n",
       "    </tr>\n",
       "    <tr>\n",
       "      <th>1</th>\n",
       "      <td>rich engrossing this is a great work of histor...</td>\n",
       "      <td>0.326250</td>\n",
       "    </tr>\n",
       "    <tr>\n",
       "      <th>2</th>\n",
       "      <td>my mother my opinion it took me a while to get...</td>\n",
       "      <td>0.062917</td>\n",
       "    </tr>\n",
       "    <tr>\n",
       "      <th>3</th>\n",
       "      <td>a bit disappointed this was my first digital c...</td>\n",
       "      <td>0.158333</td>\n",
       "    </tr>\n",
       "    <tr>\n",
       "      <th>4</th>\n",
       "      <td>review of awakening curry buckle darwin bownes...</td>\n",
       "      <td>0.082407</td>\n",
       "    </tr>\n",
       "  </tbody>\n",
       "</table>\n",
       "</div>"
      ],
      "text/plain": [
       "                                      text_processed  polarity\n",
       "0  zzzzzzzzzzz basically the movie is just people... -0.277564\n",
       "1  rich engrossing this is a great work of histor...  0.326250\n",
       "2  my mother my opinion it took me a while to get...  0.062917\n",
       "3  a bit disappointed this was my first digital c...  0.158333\n",
       "4  review of awakening curry buckle darwin bownes...  0.082407"
      ]
     },
     "execution_count": 37,
     "metadata": {},
     "output_type": "execute_result"
    }
   ],
   "source": [
    "# call sentiment function on our text and create new column with values\n",
    "df_sent[\"polarity\"]=df_sent[\"text_processed\"].apply(detect_polarity)\n",
    "df_sent.head()"
   ]
  },
  {
   "cell_type": "markdown",
   "metadata": {},
   "source": [
    "### Epsilon Neighborhood\n",
    "In the context of sentiment analysis, epsilon neighborhoods can be used to identify reviews that express similar sentiments. For example, we might define an epsilon neighborhood around a review that is very positive, and then identify all other reviews that fall within that neighborhood as also being very positive."
   ]
  },
  {
   "cell_type": "code",
   "execution_count": 39,
   "metadata": {
    "execution": {
     "iopub.execute_input": "2022-12-28T23:54:13.997191Z",
     "iopub.status.busy": "2022-12-28T23:54:13.996723Z",
     "iopub.status.idle": "2022-12-28T23:54:14.003921Z",
     "shell.execute_reply": "2022-12-28T23:54:14.002430Z",
     "shell.execute_reply.started": "2022-12-28T23:54:13.997145Z"
    }
   },
   "outputs": [],
   "source": [
    "# 1 positive\n",
    "# 2 negative\n",
    "# 0 neutral\n",
    "def detect_sentiment(sent):\n",
    "    if sent<-0.02: #0.02:limit\n",
    "        return 2\n",
    "    elif sent>0.02:\n",
    "        return 1\n",
    "    else:\n",
    "        return 0"
   ]
  },
  {
   "cell_type": "code",
   "execution_count": 40,
   "metadata": {
    "execution": {
     "iopub.execute_input": "2022-12-28T23:54:45.347700Z",
     "iopub.status.busy": "2022-12-28T23:54:45.347191Z",
     "iopub.status.idle": "2022-12-28T23:54:45.382121Z",
     "shell.execute_reply": "2022-12-28T23:54:45.380912Z",
     "shell.execute_reply.started": "2022-12-28T23:54:45.347658Z"
    }
   },
   "outputs": [
    {
     "data": {
      "text/html": [
       "<div>\n",
       "<style scoped>\n",
       "    .dataframe tbody tr th:only-of-type {\n",
       "        vertical-align: middle;\n",
       "    }\n",
       "\n",
       "    .dataframe tbody tr th {\n",
       "        vertical-align: top;\n",
       "    }\n",
       "\n",
       "    .dataframe thead th {\n",
       "        text-align: right;\n",
       "    }\n",
       "</style>\n",
       "<table border=\"1\" class=\"dataframe\">\n",
       "  <thead>\n",
       "    <tr style=\"text-align: right;\">\n",
       "      <th></th>\n",
       "      <th>text_processed</th>\n",
       "      <th>polarity</th>\n",
       "      <th>sentiment</th>\n",
       "    </tr>\n",
       "  </thead>\n",
       "  <tbody>\n",
       "    <tr>\n",
       "      <th>0</th>\n",
       "      <td>zzzzzzzzzzz basically the movie is just people...</td>\n",
       "      <td>-0.277564</td>\n",
       "      <td>2</td>\n",
       "    </tr>\n",
       "    <tr>\n",
       "      <th>1</th>\n",
       "      <td>rich engrossing this is a great work of histor...</td>\n",
       "      <td>0.326250</td>\n",
       "      <td>1</td>\n",
       "    </tr>\n",
       "    <tr>\n",
       "      <th>2</th>\n",
       "      <td>my mother my opinion it took me a while to get...</td>\n",
       "      <td>0.062917</td>\n",
       "      <td>1</td>\n",
       "    </tr>\n",
       "    <tr>\n",
       "      <th>3</th>\n",
       "      <td>a bit disappointed this was my first digital c...</td>\n",
       "      <td>0.158333</td>\n",
       "      <td>1</td>\n",
       "    </tr>\n",
       "    <tr>\n",
       "      <th>4</th>\n",
       "      <td>review of awakening curry buckle darwin bownes...</td>\n",
       "      <td>0.082407</td>\n",
       "      <td>1</td>\n",
       "    </tr>\n",
       "  </tbody>\n",
       "</table>\n",
       "</div>"
      ],
      "text/plain": [
       "                                      text_processed  polarity  sentiment\n",
       "0  zzzzzzzzzzz basically the movie is just people... -0.277564          2\n",
       "1  rich engrossing this is a great work of histor...  0.326250          1\n",
       "2  my mother my opinion it took me a while to get...  0.062917          1\n",
       "3  a bit disappointed this was my first digital c...  0.158333          1\n",
       "4  review of awakening curry buckle darwin bownes...  0.082407          1"
      ]
     },
     "execution_count": 40,
     "metadata": {},
     "output_type": "execute_result"
    }
   ],
   "source": [
    "# apply new sentiment function \n",
    "df_sent[\"sentiment\"]=df_sent[\"polarity\"].apply(detect_sentiment)\n",
    "df_sent.head()"
   ]
  },
  {
   "cell_type": "code",
   "execution_count": 41,
   "metadata": {
    "execution": {
     "iopub.execute_input": "2022-12-28T23:54:54.171129Z",
     "iopub.status.busy": "2022-12-28T23:54:54.170184Z",
     "iopub.status.idle": "2022-12-28T23:54:54.393740Z",
     "shell.execute_reply": "2022-12-28T23:54:54.392459Z",
     "shell.execute_reply.started": "2022-12-28T23:54:54.171070Z"
    }
   },
   "outputs": [
    {
     "data": {
      "image/png": "[encoded data removed]",
      "text/plain": [
       "<Figure size 432x288 with 1 Axes>"
      ]
     },
     "metadata": {
      "needs_background": "light"
     },
     "output_type": "display_data"
    }
   ],
   "source": [
    "sns.countplot(df_sent.sentiment); # plot the sentiment analysis"
   ]
  },
  {
   "cell_type": "code",
   "execution_count": 43,
   "metadata": {
    "execution": {
     "iopub.execute_input": "2022-12-28T23:55:17.903338Z",
     "iopub.status.busy": "2022-12-28T23:55:17.902876Z",
     "iopub.status.idle": "2022-12-28T23:55:17.917219Z",
     "shell.execute_reply": "2022-12-28T23:55:17.915716Z",
     "shell.execute_reply.started": "2022-12-28T23:55:17.903301Z"
    }
   },
   "outputs": [
    {
     "data": {
      "text/plain": [
       "1    29200\n",
       "2     8116\n",
       "0     2684\n",
       "Name: sentiment, dtype: int64"
      ]
     },
     "execution_count": 43,
     "metadata": {},
     "output_type": "execute_result"
    }
   ],
   "source": [
    "df_sent.sentiment.value_counts()"
   ]
  },
  {
   "cell_type": "markdown",
   "metadata": {},
   "source": [
    "We have 2900 positive, 8116 negative and 2684 neutral reviews."
   ]
  },
  {
   "cell_type": "markdown",
   "metadata": {},
   "source": [
    "## Modeling - Sentiment Analysis with TextBlob"
   ]
  },
  {
   "cell_type": "code",
   "execution_count": 44,
   "metadata": {
    "execution": {
     "iopub.execute_input": "2022-12-28T23:56:34.398256Z",
     "iopub.status.busy": "2022-12-28T23:56:34.397755Z",
     "iopub.status.idle": "2022-12-28T23:56:36.942038Z",
     "shell.execute_reply": "2022-12-28T23:56:36.940742Z",
     "shell.execute_reply.started": "2022-12-28T23:56:34.398220Z"
    }
   },
   "outputs": [],
   "source": [
    "# assign x and y\n",
    "x, y=df_sent.text_processed, df_sent.sentiment\n",
    "# Vectorize X\n",
    "vect=CountVectorizer(stop_words=\"english\")\n",
    "x=vect.fit_transform(x) \n",
    "# split into train and test sets\n",
    "x_train,x_test,y_train,y_test=train_test_split(x,y,random_state=42,test_size=.15)"
   ]
  },
  {
   "cell_type": "code",
   "execution_count": 45,
   "metadata": {
    "execution": {
     "iopub.execute_input": "2022-12-28T23:56:45.702664Z",
     "iopub.status.busy": "2022-12-28T23:56:45.702203Z",
     "iopub.status.idle": "2022-12-29T00:02:06.247208Z",
     "shell.execute_reply": "2022-12-29T00:02:06.246120Z",
     "shell.execute_reply.started": "2022-12-28T23:56:45.702627Z"
    }
   },
   "outputs": [],
   "source": [
    "#importing Classification libraries\n",
    "from sklearn.naive_bayes import MultinomialNB\n",
    "from sklearn.tree import DecisionTreeClassifier\n",
    "from sklearn.neighbors import KNeighborsClassifier\n",
    "from sklearn.ensemble import RandomForestClassifier\n",
    "from xgboost import XGBClassifier\n",
    "\n",
    "# create an instance of each classification algorithm\n",
    "mb=MultinomialNB()\n",
    "D=DecisionTreeClassifier()\n",
    "KN=KNeighborsClassifier() \n",
    "R=RandomForestClassifier()\n",
    "XGB=XGBClassifier()\n",
    "\n",
    "classifiers = [mb, D, KN, R, XGB]\n",
    "\n",
    "# list of classifier names\n",
    "classifier_names = ['MultinomialNB', 'DecisionTreeClassifier', 'KNeighborsClassifier', 'RandomForestClassifier', 'XGBClassifier']\n",
    "\n",
    "# create an empty dataframe\n",
    "df2 = pd.DataFrame(columns=['classifier', 'accuracy'])\n",
    "\n",
    "# loop through classifiers and get predictions\n",
    "for i, clf in enumerate(classifiers):\n",
    "    pred = clf.fit(x_train, y_train).predict(x_test)\n",
    "    score = accuracy_score(pred, y_test)\n",
    "    df2.loc[i] = [classifier_names[i], score]"
   ]
  },
  {
   "cell_type": "code",
   "execution_count": 46,
   "metadata": {
    "execution": {
     "iopub.execute_input": "2022-12-29T00:02:06.250003Z",
     "iopub.status.busy": "2022-12-29T00:02:06.249221Z",
     "iopub.status.idle": "2022-12-29T00:02:06.265489Z",
     "shell.execute_reply": "2022-12-29T00:02:06.264075Z",
     "shell.execute_reply.started": "2022-12-29T00:02:06.249959Z"
    }
   },
   "outputs": [
    {
     "data": {
      "text/html": [
       "<div>\n",
       "<style scoped>\n",
       "    .dataframe tbody tr th:only-of-type {\n",
       "        vertical-align: middle;\n",
       "    }\n",
       "\n",
       "    .dataframe tbody tr th {\n",
       "        vertical-align: top;\n",
       "    }\n",
       "\n",
       "    .dataframe thead th {\n",
       "        text-align: right;\n",
       "    }\n",
       "</style>\n",
       "<table border=\"1\" class=\"dataframe\">\n",
       "  <thead>\n",
       "    <tr style=\"text-align: right;\">\n",
       "      <th></th>\n",
       "      <th>classifier</th>\n",
       "      <th>accuracy</th>\n",
       "    </tr>\n",
       "  </thead>\n",
       "  <tbody>\n",
       "    <tr>\n",
       "      <th>4</th>\n",
       "      <td>XGBClassifier</td>\n",
       "      <td>0.847167</td>\n",
       "    </tr>\n",
       "    <tr>\n",
       "      <th>3</th>\n",
       "      <td>RandomForestClassifier</td>\n",
       "      <td>0.813000</td>\n",
       "    </tr>\n",
       "    <tr>\n",
       "      <th>0</th>\n",
       "      <td>MultinomialNB</td>\n",
       "      <td>0.797000</td>\n",
       "    </tr>\n",
       "    <tr>\n",
       "      <th>1</th>\n",
       "      <td>DecisionTreeClassifier</td>\n",
       "      <td>0.773333</td>\n",
       "    </tr>\n",
       "    <tr>\n",
       "      <th>2</th>\n",
       "      <td>KNeighborsClassifier</td>\n",
       "      <td>0.667333</td>\n",
       "    </tr>\n",
       "  </tbody>\n",
       "</table>\n",
       "</div>"
      ],
      "text/plain": [
       "               classifier  accuracy\n",
       "4           XGBClassifier  0.847167\n",
       "3  RandomForestClassifier  0.813000\n",
       "0           MultinomialNB  0.797000\n",
       "1  DecisionTreeClassifier  0.773333\n",
       "2    KNeighborsClassifier  0.667333"
      ]
     },
     "execution_count": 46,
     "metadata": {},
     "output_type": "execute_result"
    }
   ],
   "source": [
    "# sort the dataframe by the accuracy column in descending order\n",
    "df2.sort_values(by='accuracy', ascending=False, inplace=True)\n",
    "df2 # show results"
   ]
  },
  {
   "cell_type": "markdown",
   "metadata": {},
   "source": [
    "Using TextBlob for the Sentiment Analysis, the **XGBClassifier** scored the highest with an Accurcy of **84,72%.**"
   ]
  },
  {
   "cell_type": "code",
   "execution_count": null,
   "metadata": {},
   "outputs": [],
   "source": []
  }
 ],
 "metadata": {
  "kernelspec": {
   "display_name": "Python 3 (ipykernel)",
   "language": "python",
   "name": "python3"
  },
  "language_info": {
   "codemirror_mode": {
    "name": "ipython",
    "version": 3
   },
   "file_extension": ".py",
   "mimetype": "text/x-python",
   "name": "python",
   "nbconvert_exporter": "python",
   "pygments_lexer": "ipython3",
   "version": "3.9.12"
  }
 },
 "nbformat": 4,
 "nbformat_minor": 4
}
